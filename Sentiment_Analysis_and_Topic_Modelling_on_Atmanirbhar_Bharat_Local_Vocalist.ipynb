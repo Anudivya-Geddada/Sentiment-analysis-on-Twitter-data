{
  "cells": [
    {
      "cell_type": "markdown",
      "metadata": {
        "id": "view-in-github",
        "colab_type": "text"
      },
      "source": [
        "<a href=\"https://colab.research.google.com/github/Anudivya-Geddada/Sentiment-analysis-on-Twitter-data/blob/main/Sentiment_Analysis_and_Topic_Modelling_on_Atmanirbhar_Bharat_Local_Vocalist.ipynb\" target=\"_parent\"><img src=\"https://colab.research.google.com/assets/colab-badge.svg\" alt=\"Open In Colab\"/></a>"
      ]
    },
    {
      "cell_type": "markdown",
      "source": [
        "#Data Extraction\n",
        "Install snscrape library and import all the necessray\n",
        "libraries"
      ],
      "metadata": {
        "id": "zlxGlJpU8nJD"
      }
    },
    {
      "cell_type": "code",
      "execution_count": 1,
      "metadata": {
        "id": "GUWhlbS9PWhH"
      },
      "outputs": [],
      "source": [
        "import pandas as pd"
      ]
    },
    {
      "cell_type": "code",
      "execution_count": 2,
      "metadata": {
        "colab": {
          "base_uri": "https://localhost:8080/"
        },
        "id": "J60WHFaTPZlH",
        "outputId": "2ccf0409-bb8a-4025-b862-3577666510d3"
      },
      "outputs": [
        {
          "output_type": "stream",
          "name": "stdout",
          "text": [
            "Looking in indexes: https://pypi.org/simple, https://us-python.pkg.dev/colab-wheels/public/simple/\n",
            "Collecting snscrape\n",
            "  Downloading snscrape-0.7.0.20230622-py3-none-any.whl (74 kB)\n",
            "\u001b[2K     \u001b[90m━━━━━━━━━━━━━━━━━━━━━━━━━━━━━━━━━━━━━━━━\u001b[0m \u001b[32m74.8/74.8 kB\u001b[0m \u001b[31m3.1 MB/s\u001b[0m eta \u001b[36m0:00:00\u001b[0m\n",
            "\u001b[?25hRequirement already satisfied: requests[socks] in /usr/local/lib/python3.10/dist-packages (from snscrape) (2.27.1)\n",
            "Requirement already satisfied: lxml in /usr/local/lib/python3.10/dist-packages (from snscrape) (4.9.2)\n",
            "Requirement already satisfied: beautifulsoup4 in /usr/local/lib/python3.10/dist-packages (from snscrape) (4.11.2)\n",
            "Requirement already satisfied: filelock in /usr/local/lib/python3.10/dist-packages (from snscrape) (3.12.2)\n",
            "Requirement already satisfied: soupsieve>1.2 in /usr/local/lib/python3.10/dist-packages (from beautifulsoup4->snscrape) (2.4.1)\n",
            "Requirement already satisfied: urllib3<1.27,>=1.21.1 in /usr/local/lib/python3.10/dist-packages (from requests[socks]->snscrape) (1.26.16)\n",
            "Requirement already satisfied: certifi>=2017.4.17 in /usr/local/lib/python3.10/dist-packages (from requests[socks]->snscrape) (2023.5.7)\n",
            "Requirement already satisfied: charset-normalizer~=2.0.0 in /usr/local/lib/python3.10/dist-packages (from requests[socks]->snscrape) (2.0.12)\n",
            "Requirement already satisfied: idna<4,>=2.5 in /usr/local/lib/python3.10/dist-packages (from requests[socks]->snscrape) (3.4)\n",
            "Requirement already satisfied: PySocks!=1.5.7,>=1.5.6 in /usr/local/lib/python3.10/dist-packages (from requests[socks]->snscrape) (1.7.1)\n",
            "Installing collected packages: snscrape\n",
            "Successfully installed snscrape-0.7.0.20230622\n"
          ]
        }
      ],
      "source": [
        "pip install snscrape"
      ]
    },
    {
      "cell_type": "code",
      "execution_count": 3,
      "metadata": {
        "id": "VbVTO-nyPcpQ"
      },
      "outputs": [],
      "source": [
        "import snscrape.modules.twitter as sntwitter"
      ]
    },
    {
      "cell_type": "code",
      "execution_count": 5,
      "metadata": {
        "id": "p5MISDxvPvy_",
        "outputId": "340a701d-41c7-45d4-896a-4ead53816b6b",
        "colab": {
          "base_uri": "https://localhost:8080/"
        }
      },
      "outputs": [
        {
          "output_type": "stream",
          "name": "stderr",
          "text": [
            "WARNING:snscrape.modules.twitter:Stopping after 20 empty pages\n"
          ]
        }
      ],
      "source": [
        "q='ATMANIRBHAR BHARAT ABHIYAN'\n",
        "l=[]\n",
        "for tweet in sntwitter.TwitterSearchScraper(q).get_items():\n",
        "  if len(l)==500:\n",
        "    break\n",
        "  else:\n",
        "    l.append(tweet.renderedContent)"
      ]
    },
    {
      "cell_type": "code",
      "execution_count": 6,
      "metadata": {
        "colab": {
          "base_uri": "https://localhost:8080/"
        },
        "id": "4Tw6OBK5QdCM",
        "outputId": "92b085c5-e361-4e7f-fbee-19a62f5f857b"
      },
      "outputs": [
        {
          "output_type": "stream",
          "name": "stdout",
          "text": [
            "Here are ....\n",
            "\n",
            "1. Swachh Bharat Abhiyan (\"Clean India\")\n",
            "2. Pradhan Mantri Kaushal Vikas Yojana (PMKVY)\n",
            "3. Make in India\n",
            "4. Jan Dhan Yojana\n",
            "5. Mann Ki Baat\n",
            "6. Ayushman Bharat\n",
            "7. Digital India\n",
            "8. Atmanirbhar Bharat\n",
            "9. Trippal Talaq\n",
            "10. Online Payments\n",
            "11. Ujwala Yojana\n",
            "13. Housing https://t.co/03MHVTXGLp The Atmanirbhar Bharat Abhiyan has encouraged self-reliance, fostering entrepreneurship and indigenous innovation. #9YearsOfEaseOfBusiness https://t.co/0e7b2SbKPh The Atmanirbhar Bharat Abhiyan has encouraged self-reliance, fostering entrepreneurship and indigenous innovation. #9YearsOfEaseOfBusiness https://t.co/cAAPikVbRH The Atmanirbhar Bharat Abhiyan has encouraged self-reliance, fostering entrepreneurship and indigenous innovation. #9YearsOfEaseOfBusiness https://t.co/JdNB9X5JeW The remarkable progress of the Indian economy, under the leadership of Hon'ble PM Shri @narendramodi ji, can be attributed to his visionary Atmanirbhar Bharat Abhiyan, the digital payment revolution, and comprehensive economic reforms.\n",
            "\n",
            "#9YearsOfEconomicReforms https://t.co/3R7n1zmbbS and urban landscapes. The Atmanirbhar Bharat Abhiyan, aimed at boosting domestic manufacturing and reducing dependence on imports, has spurred innovation, job creation, and economic resilience.\n",
            "(6) Dairy schemes\n",
            "DAIRY INFRASTRUCTURE. DEVELOPMENT FUND (DIDF) ANIMAL HUSBANDRY INFRASTRUCTURE. DEVELOPMENT FUND (AHIDF)\n",
            "dahd.nic.in/schemes/progra…\n",
            "ahidf.udyamimitra.in\n",
            "The recently announced Prime Minister's AtmaNirbhar Bharat Abhiyan https://t.co/PjkPweb0UI 🔹Pradhan Mantri Atmanirbhar Bharat Abhiyan (ABHA)\n",
            "🔹Paramparagat Krishi Vikas Yojana (PKVY)\n",
            "🔹Pradhan Mantri Krishi Sinchai Yojana (PMKSY)\n",
            "🔹PM Krishi Sampada Yojana\n",
            "2/ @pintukirtijain1 @ranakshrana @Kesariya_Meenu Atmanirbhar Bharat, \n",
            "11.Make in India,\n",
            "12.Made in India,\n",
            "13.Defence Sector Atmanirbhar, \n",
            "14.5G\n",
            "15.Indian Diaspora,\n",
            "16.Promoting Indian Cultural TouristG20\n",
            "17.removing Colonial Mentality,World's tallest Statue\n",
            "18.Swachh Bharat Abhiyan,\n",
            "19.Jan Dhan Yojana, The first edition of the PLI scheme for textiles was established in 2021 as a part of the Atmanirbhar Bharat Abhiyan\n",
            "\n",
            "textilesouthasia.com/2023/05/31/tex…\n",
            "\n",
            "#ATMANIRBHARBHIRHA #textileministeryofindia #investment #materials Atmanirbhar Bharat Abhiyan | Atmanirbhar Bharat Mission Objectives\n",
            "\n",
            "Find details here -  sarkariyojnaa.org/atmanirbhar-bh…\n",
            "\n",
            "#sarkariyojana #govtschemes #sarkariyojna #CentralSchemes #AtmaNirbharBharatAbhiyan 🧵\n",
            "9 years 9 achievement of Modi Sarkar\n",
            "\n",
            "• Swaccha Bharat Abhiyan\n",
            "• Atmanirbhar Bharat\n",
            "• Digital India\n",
            "• Development and upgradation of Roads, Railways, Education, Science, IT etc. Infrastructure 10 Best Things Modi Government Has Done So Far\n",
            "\n",
            "1. UPI\n",
            "2. Abrogation of Article 370\n",
            "3. Jan Dhan Yojana\n",
            "4. Ayushman Bharat\n",
            "5. Digital India\n",
            "6. Atmanirbhar Bharat- Vocal for Local\n",
            "7. Swachh Bharat Abhiyan\n",
            "8.Make in India\n",
            "9.GST-One Nation One Market\n",
            "10. Not A Single Corruption Charg @Sanjeevdelhincr @narendramodi Atmanirbhar Bharat, Make in India, Made in India, Defence Sector Atmanirbhar, 5G, Atmanirbhar COVID vaccine, Indian Diaspora, Promoting Indian Cultural Tourist, removing Colonial Mentality, World's tallest Statue, Swachh Bharat Abhiyan, Jan Dhan Yojana, Vande Bharat Express.... 9 years of Modi &amp; the 9 reasons I'll vote for him in 2024\n",
            "1. 370 Abortion\n",
            "2. Jan Dhan\n",
            "3. Road Infrastructure\n",
            "4. India's Covid Vaccine free to all\n",
            "5. North East Devlopment\n",
            "6. Made in India Vande Bharat Train\n",
            "7.  Jal Jeevan Mission\n",
            "8. Atmanirbhar Bharat Abhiyan\n",
            "9  Mudra Loan @narendramodi sir,\n",
            "We all are very excited for the new parliament building. It is a tableau of Atmanirbhar Bharat Abhiyan. This parliament is not just a building but a bright future of India is stored in it.  \n",
            "Thank you sir. \n",
            "#MyParliamentMyPride Make in India\n",
            "Foreign Policy Put on Fast-track Mode\n",
            "Swachh Bharat Abhiyan (Clean India Campaign)\n",
            "Jan Dhan Yojana\n",
            "Economic Reforms and Policy Implementation\n",
            "Confidence-building Measures in Kashmir\n",
            "Ayushman Bharat\n",
            "Digital India\n",
            "Atmanirbhar Bharat- Vocal for Local\n",
            "Mann ki Baat @collectorcu \n",
            "#AatmanirbharBharat \n",
            "#womenempowerment \n",
            "#indipendent\n",
            "Here our prime minister started Atmanirbhar bharat abhiyan to motivate our youth including women's, meanwhile this corrupted officer's rejecting the forum with no reason... need an reason for this. https://t.co/i3BG1L4Dmb To tackle the slowdown of economy due to COVID-19 pandemic 2nd Economic Relief Package for J&amp;K announced\n",
            "Earlier, a 20 lakh crore package was released under ‘Atmanirbhar Bharat Abhiyan’, focusing MSMEs, priority sectors &amp; vulnerable segments.\n",
            "#GlobalKashmir https://t.co/YEYa9ANhgU @earthshuman4 @Aryan3711 @TheAbhishek_IND @EkamSBharat Make in india,swacch bharat abhiyan, jan dhan yojna,Economic Reforms and Policy Implementation,Foreign Policy Put on Fast-track Mode, remove article 370,triple talaq,ayushman bharat, digital india,Atmanirbhar Bharat, ayodhya shri ram mandir,5th largest economy in the world As PM @narendramodi graces us with his presence in Karnataka, we are proud to highlight his efforts towards empowering our MSME sector. Moreover, the Atmanirbhar Bharat Abhiyan has provided them with a much-needed boost. #KarWantsDoubleEngine @annamalai_k Free tailoring training will be given to the girls of Jewar area.  By making Atmanirbhar Bharat Abhiyan meaningful\n",
            "#BadaltaJewar https://t.co/ZxIlDuGULs Free saree training will be given to the children of Jewar area. Rural and poor women who are viable for Atmanirbhar Bharat Abhiyan will get selection at their home itself. \n",
            "#BadaltaJewar https://t.co/sh4iKZ2qPN By making Atmanirbhar Bharat Abhiyan meaningful, employment will be made available to rural and poor women at their homes.   #BadaltaJewar Free tailoring training will be given to the girls of Jewar area. By making Atmanirbhar Bharat Abhiyan meaningful #BadaltaJewar Honored to have PM @narendramodi in Karnataka! Your efforts towards creating a self-reliant India through the Atmanirbhar Bharat Abhiyan have spurred innovation and entrepreneurship.  #NannaVoteModige Despite Govt's initiatives like Make In India, Atmanirbhar Bharat Abhiyan, demand for core sectors like Steel, Electricity, Cement, Coal, etc. remains weak. \n",
            "\n",
            "@nsitharaman , does falling output of core sectors signal decline in investment, employment, Govt. revenue &amp; inflation? https://t.co/DMEmXZZBZA 4. First time in India, a private company will make military aircraft, which is in Gujarat's Vadodara.  The contract is of ₹21,935-crore with Airbus Defence and Space for 56 C-295 planes to give a push to the Atmanirbhar Bharat Abhiyan. May I know which India are you living in where you didn't notice the following: \n",
            "\n",
            "- Ujwala\n",
            "- Make in India\n",
            "- Swachh Bharat Abhiyan\n",
            "- Jan Dhan Yojana\n",
            "- Economic Reforms\n",
            "- Foreign Policy\n",
            "- Article 370\n",
            "- Digital India\n",
            "- Atmanirbhar Bharat\n",
            "- Ram Mandir\n",
            "- Vande Bharat\n",
            "Many more.... Government initiatives: \n",
            "The Indian government has introduced several initiatives to support the growth of MSMEs, including the Atmanirbhar Bharat Abhiyan, which aims to make India self-reliant and support domestic businesses. #IndiaAtUN\n",
            "\n",
            "\"🇮🇳's initiatives like Atmanirbhar Bharat Abhiyan, Skill India Mission &amp; National Mental Health Program show our commitment to #youth empowerment...\"\n",
            "\n",
            "🎥: Shri @ianuragthakur, Minister of @YASMinistry delivers #India’s Statement at 🇺🇳 ECOSOC #Youth2030 Forum ⤵️ https://t.co/LyFGJkOSHx The Atmanirbhar Bharat Abhiyan  of the Government of India (GoI), which is aimed at limiting import  dependence and increasing the demand for indigenous products, also  provides better growth opportunities for the company.\n",
            "Further, TNL’s application for  the design-led production What happened 'Make in India' or 'Atmanirbhar Bharat' abhiyan?? https://t.co/gdjWTYMIHd #LIVE | PM Modi inaugurates Rozgar Mela. Says, 'The approach of Atmanirbhar Bharat Abhiyan is not limited.'\n",
            "\n",
            "#PMModi #RozgarMela #AtmanirbharBharatAbhiyan\n",
            "\n",
            "youtube.com/watch?v=qtlFu9… https://t.co/KbVVZWzjAZ #BREAKING | PM Modi inaugurates Rozgar Mela. Says, 'The approach of Atmanirbhar Bharat Abhiyan is not limited.'\n",
            "\n",
            "#PMModi #RozgarMela #AtmanirbharBharatAbhiyan\n",
            "\n",
            "youtube.com/watch?v=qtlFu9… https://t.co/CJVBJYPr6K 'Banarasi Paan, Langda mango from Kashi make it to GI club'\n",
            "With the inspiration of PM @narendramodi, the GI goods are going from local to global in Atmanirbhar Bharat Abhiyan and the country is displaying its heritage all over the world.\n",
            "Kudos\n",
            "👏👏\n",
            "\n",
            "timesofindia.indiatimes.com/city/varanasi/… https://t.co/5jiAWgK0QD @narendramodi The GOI has launched the Atmanirbhar Bharat Abhiyan with a focus on empowering MSMEs and promoting self-reliance.\n",
            "\n",
            "The Union Budget 2021-22 has allocated Rs 15,700 crore for the Ministry of Micro, Small &amp; Medium Enterprises, which is a 64% increase from the previous year's budget PM SVANidhi\n",
            "The Ministry of Housing and Urban Affairs (MoHUA) launched PM SVANidhi, for providing affordable loans to street vendors.\n",
            "It was announced as a part of the Economic Stimulus-II under the Atmanirbhar Bharat Abhiyan. The Ministry of Housing and Urban Affairs (MoHUA) launched PM SVANidhi, for providing affordable loans to street vendors.\n",
            "It was announced as a part of the Economic Stimulus-II under the Atmanirbhar Bharat Abhiyan. A warm welcome to Prime Minister Shri @narendramodi, who has been taking significant steps towards the development of the country's MSME sector through schemes like the Atmanirbhar Bharat Abhiyan and Stand-Up India. #ModiInMahaSangama https://t.co/VHeRXC4x2G The government has launched several initiatives to address these challenges, including the Make in India campaign, Digital India, and the Atmanirbhar Bharat Abhiyan, which aim to boost manufacturing, promote digitalization, and make India self-reliant in key sectors. @BJP4Karnataka #9yearsofnda #9X9\n",
            "Swachh Bharat Abhiyan\n",
            "Ayushman Bharat\n",
            "Ujjwala Yojana\n",
            "PM-KISAN\n",
            "Atmanirbhar Bharat\n",
            "Make in India\n",
            "Digital India\n",
            "Jan Dhan Yojana\n",
            "GST\n",
            "\n",
            "Seva aur Samarthan, Modi ki Pehchan Department of Animal Husbandry and Dairying initiated Animal Husbandry Infrastructure Development Fund with a scheme outlay of Rs.15000 crore under Atmanirbhar Bharat Abhiyan stimulus package.\n",
            "\n",
            "Read more: pib.gov.in/PressReleasePa… Madhya Pradesh is contributing towards the 'Atmanirbhar Bharat Abhiyan' by promoting the use of 'Khadhi' products. The state government has made it mandatory for all employees to wear Khadhi clothes once a week. @ChouhanShivraj #MPEconomicSurvey https://t.co/rvPeDtatWZ Not only the vaccination drive but relief schemes under the “Atmanirbhar Bharat Abhiyan” assisted the MSMEs and social sector while providing employment through Aatmanirbhar Bharat Rozgar Yojana and PM Garib Kalyan Rozgar Yojana.\n",
            "3/4 Swavalambi Bharat Abhiyan was initiated by @RSSorg a year ago with an intent to realise Atmanirbhar Bharat by nudging youth to be Employment generators through Entrepreneurship rather than be Employment seekers. Took part in 3 day workshop conducted at Pusa, New Delhi https://t.co/u7vmIPY61R Financing facility for Women empowerment under Atmanirbhar Bharat Abhiyan\n",
            "\n",
            "Block calendar: 18th Feb 2023 11:30 AM to 12:00 AM for Fempreneur Talks Show and watch LIVE at Vyapaar Jagat TV\n",
            "Subscribe to youtube.com/VyapaarJagatTV Now, so you don't miss it out.\n",
            "\n",
            "#Fempreneur #Women https://t.co/GqfEtSLkSI Atmanirbhar Bharat Abhiyan | Atmanirbhar Bharat Mission Objectives\n",
            "sarkariyojnaa.org/atmanirbhar-bh…\n",
            "#sarkariyojana  #govtschemes  #sarkariyojna #centralschemes Govt is continuously giving emphasis on innovation &amp; entrepreneurship. Today our youth are showing the power of their innovation to the world. The country started reaping the benefits of success of Made in India campaign, Atmanirbhar Bharat Abhiyan: #President\n",
            "\n",
            "#BudgetSession2023 5. Atmanirbhar Bharat Abhiyan:- \n",
            "This initiative aims to promote self-reliance and reduce dependence on imports. It includes a range of measures to support businesses including startups, such as tax incentives, access to funding and measures to promote exports. #AtmaNirbharBharat Natural Capital Corporation, Canada is offering patented hydropyrolysis technology to Indian communities, fully funded program, accomplishing Bharat swachh Abhiyan, Atmanirbhar Bharat. Debt free program. natcap.world \"India has been on the path of “reform, transform and perform” since 2014, the PM said.\n",
            "\n",
            "The Atmanirbhar Bharat Abhiyan has imparted greater momentum to it. As a result, India has become an attractive destination for investment, he…lnkd.in/ga8Eqy_6 lnkd.in/gRpc3g_K @TPDass4 @suvojitc @ysathishreddy @KTRTRS @TRBRajaa @AtishiAAP @zoo_bear @aartic02 @prakashraaj @SyedHazeena @manojdhopchandi @pbhushan1 1- Make in india \n",
            "2-Swachh bharat abhiyan\n",
            "3- Removing article 370\n",
            "4-A strong india which is feared by many nations\n",
            "5-Atmanirbhar Bharat\n",
            "6-Give orders for 2 surgical strike in pakistan (Ghar mai ghus ke maarenge)\n",
            "7-Making strong relation with russia,Usa,Israel,etc. \n",
            "and many more In line with the government's \"Atmanirbhar #Bharat Abhiyan'', Namasthe World, a newly formed children’s #toy and #gaming brand based out of Hyderabad has announced its launch promising to offer a holistic #360-degree experience for kids.\n",
            "\n",
            " indianretailer.com/news/namasthe-… 𝐑𝐞𝐚𝐝 𝐚𝐧 𝐢𝐧𝐭𝐞𝐫𝐞𝐬𝐭𝐢𝐧𝐠 𝐚𝐫𝐭𝐢𝐜𝐥𝐞 𝐨𝐧 𝐀𝐭𝐦𝐚𝐧𝐢𝐫𝐛𝐡𝐚𝐫𝐚𝐭𝐚 𝐟𝐨𝐫 𝐍𝐞𝐰 𝐈𝐧𝐝𝐢𝐚 𝐛𝐲 𝐃𝐫. R Balasubramaniam.\n",
            "\n",
            "I strongly believe that the “Atmanirbhar Bharat Abhiyan” has strengthened our economy and empowered the youth. \n",
            "indianexpress.com/article/opinio… \"Atmanirbhar Bharat Abhiyan\"\n",
            "\n",
            "India is on path of reform, transform and perform: PM Modi to global investors\n",
            "livemint.com/news/india/ind…\n",
            "\n",
            "via NaMo App https://t.co/wWZeATUnKi Madhya Pradesh is the ideal global investment destination: Goyal\n",
            "#Atmanirbhar_Bharat_Abhiyan #ChouhanShivraj #Green_Hydrogen_Mission #Madhya_Pradesh #MP_MyGov #narendramodi #piyushgoyal #PMOIndia #TwitterIndia #US #News #indicanews #indoamericannews\n",
            "indicanews.com/2023/01/11/mad… Madhya Pradesh is the ideal global investment destination: Goyal\n",
            "#Atmanirbhar_Bharat_Abhiyan #ChouhanShivraj #Green_Hydrogen_Mission #Madhya_Pradesh #MP_MyGov #narendramodi #piyushgoyal #PMOIndia #TwitterIndia #US #News #indicanews #indoamericannews\n",
            "indicanews.com/2023/01/11/mad… Latest:Even during  once-in-a-century crisis, we took the path of reforms.India has been on the path of reform, transform &amp; perform since 2014.Atmanirbhar Bharat Abhiyan has imparted greater momentum to it. As a result,India has become an attractive destination for investment: PM Even during a once-in-a-century crisis, we took the path of reforms. India has been on the path of reform, transform &amp; perform since 2014. Atmanirbhar Bharat Abhiyan has imparted greater momentum to it. As a result, India has become an attractive destination for investment: PM https://t.co/3W4lcWY9sr Even during a once-in-a-century crisis, we took the path of reforms. India has been on the path of reform, transform &amp; perform since 2014. Atmanirbhar Bharat Abhiyan has imparted greater momentum to it. As a result, India has become an attractive destination for investment: PM https://t.co/ozaF8ziw4c As part of the Atmanirbhar Bharat Abhiyan, the Sunni Dam project will provide local suppliers, MSMEs, and entrepreneurs with new opportunities and encourage employment and socio-economic development in the region. \n",
            "\n",
            "#MakeInIndia #Investment #infrastructure @narendramodi @rajnathsingh The strategy of Atmanirbhar Bharat Abhiyan seems to give strong supply-side push by boosting availability of capital on easy terms and through supporting agriculture and business sectors to make its citizens self-reliant on pillars of economy,demand, infrastructure\n",
            "@TandonRaveena https://t.co/4w2Tw4iBSS .@adgpi inaugurates first-ever two-storey 3-D Printed House Dwelling Unit at Ahmedabad.\n",
            "\n",
            "The structure also stands testament to the commitment of the Indian Army in fostering the 'Atmanirbhar Bharat Abhiyan'.\n",
            "\n",
            "Read here: pib.gov.in/PressReleasePa… \n",
            "\n",
            "@DefenceMinIndia https://t.co/R2oI5OYady Indian Army inaugurated first-ever two-storey 3-D printed house dwelling unit at Ahmedabad.\n",
            "\n",
            "The structure also stands testament to the commitment of the Indian Army in fostering the 'Atmanirbhar Bharat Abhiyan'.\n",
            "\n",
            "@DefenceMinIndia https://t.co/ZkT4pBA7qC .@adgpi inaugurates first-ever two-storey 3-D Printed House Dwelling Unit at Ahmedabad.\n",
            "\n",
            "The structure also stands testament to the commitment of the Indian Army in fostering the 'Atmanirbhar Bharat Abhiyan'.\n",
            "\n",
            "Read here: pib.gov.in/PressReleasePa… \n",
            "\n",
            "@DefenceMinIndia https://t.co/ts9Ythn5Rc AVNL is proud to be a strong contributor towards the Atmanirbhar Bharat Abhiyan of the Government of India. \n",
            "This is a significant achievement of MTPF, a unit of AVNL, towards meeting requirements of such special purpose equipment through indigenous efforts. (5/7)PM SVANidhi Scheme:\n",
            "The scheme was announced as a part of the Economic Stimulus-II under the Atmanirbhar Bharat Abhiyan. @drishtiiaseng C \n",
            "Part of the Economic Stimulus-II under the Atmanirbhar Bharat Abhiyan.(2020)\n",
            "fully funded by Ministry of Housing and Urban,available to all street vendors in urban areas. SIDBI is partner\n",
            "It's extension SVANidhi Se Samriddhi’ map  socio-economic profile of beneficiaries @TheWayfarer14 @SmarajitK @AbhishBanerj Completely agree!So you should support uniform civilcode&amp;atmanirbhar bharat abhiyan?!You are missing/ignoring the point I stated!Even if it's coal its cheaper than oil!Cost of import is also cheaper!Reserves will be least impacted comparatively?Btw have you got sollar panels yet? BJP is moving ahead with the resolution of Atmanirbhar Bharat Abhiyan.\n",
            "\n",
            "#પ્રચંડ_જીત_તરફ_ભાજપ BJP is moving ahead with the resolution of Atmanirbhar Bharat Abhiyan.\n",
            "\n",
            "#પ્રચંડ_જીત_તરફ_ભાજપ Such a proud feeling to see BJP is moving ahead with the resolution of Atmanirbhar Bharat Abhiyan.\n",
            "#પ્રચંડ_જીત_તરફ_ભાજપ https://t.co/Pmy4lUsPjp BJP is moving ahead with the resolution of Atmanirbhar Bharat Abhiyan.\n",
            "#પ્રચંડ_જીત_તરફ_ભાજપ https://t.co/2Kaed1g9GJ @drusawasthi @fertmin_india Congraulations,Awasthi Ji,under our PM's vision ,IFFCO, R&amp;D  shatters the 5 nanometer particle size  for Nanu Urea down from  current 20 nanometer size made in India under Atmanirbhar Bharat Abhiyan, by IFFCO for India and the Globe. As if MakeInIndia,national logistics,semiconductor policy ,Weapons,aircraft defence indegenisation,Abha scheme,Atmanirbhar bharat scheme,swach bharat abhiyan,digital India,national supercomputing mission is brought by mughals to India in 2022. Start reading newspaper. Atmanirbhar Bharat Abhiyan - was brought by Modiji \n",
            "\n",
            "#Vanakkam_Modi 💚🧡 Atmanirbhar Bharat Abhiyan - was brought by Modiji #VIKASKADOUBLEENGINE @BJYMINTN Atmanirbhar Bharat Abhiyan - was brought by Modiji #VIKASKADOUBLEENGINE @BJYMINTN .Atmanirbhar Bharat Abhiyan - was brought by Modiji #VIKASKADOUBLEENGINE @BJYMINTN Atmanirbhar Bharat Abhiyan - was brought by Modiji #VIKASKADOUBLEENGINE @BJYMINTN .Atmanirbhar Bharat Abhiyan - was brought by Modiji #VIKASKADOUBLEENGINE @BJYMINTN Atmanirbhar Bharat Abhiyan - was brought by Modiji #VIKASKADOUBLEENGINE \n",
            "@BJYMINTN\n"
          ]
        }
      ],
      "source": [
        "print(*l)"
      ]
    },
    {
      "cell_type": "markdown",
      "source": [
        "#Data Cleaning\n",
        "As the Extracted is Noisy,So we need to perform Data Cleaning."
      ],
      "metadata": {
        "id": "61I_4O_1In_D"
      }
    },
    {
      "cell_type": "markdown",
      "source": [
        "import clean-text library from python package"
      ],
      "metadata": {
        "id": "sBszfeSDLJ9T"
      }
    },
    {
      "cell_type": "code",
      "execution_count": 7,
      "metadata": {
        "colab": {
          "base_uri": "https://localhost:8080/"
        },
        "id": "S1p-za8Q0KOz",
        "outputId": "1b7dc107-b3ed-4699-832b-b32c84486530"
      },
      "outputs": [
        {
          "output_type": "stream",
          "name": "stdout",
          "text": [
            "Looking in indexes: https://pypi.org/simple, https://us-python.pkg.dev/colab-wheels/public/simple/\n",
            "Collecting clean-text\n",
            "  Downloading clean_text-0.6.0-py3-none-any.whl (11 kB)\n",
            "Collecting emoji<2.0.0,>=1.0.0 (from clean-text)\n",
            "  Downloading emoji-1.7.0.tar.gz (175 kB)\n",
            "\u001b[2K     \u001b[90m━━━━━━━━━━━━━━━━━━━━━━━━━━━━━━━━━━━━━━━\u001b[0m \u001b[32m175.4/175.4 kB\u001b[0m \u001b[31m4.1 MB/s\u001b[0m eta \u001b[36m0:00:00\u001b[0m\n",
            "\u001b[?25h  Preparing metadata (setup.py) ... \u001b[?25l\u001b[?25hdone\n",
            "Collecting ftfy<7.0,>=6.0 (from clean-text)\n",
            "  Downloading ftfy-6.1.1-py3-none-any.whl (53 kB)\n",
            "\u001b[2K     \u001b[90m━━━━━━━━━━━━━━━━━━━━━━━━━━━━━━━━━━━━━━━━\u001b[0m \u001b[32m53.1/53.1 kB\u001b[0m \u001b[31m5.9 MB/s\u001b[0m eta \u001b[36m0:00:00\u001b[0m\n",
            "\u001b[?25hRequirement already satisfied: wcwidth>=0.2.5 in /usr/local/lib/python3.10/dist-packages (from ftfy<7.0,>=6.0->clean-text) (0.2.6)\n",
            "Building wheels for collected packages: emoji\n",
            "  Building wheel for emoji (setup.py) ... \u001b[?25l\u001b[?25hdone\n",
            "  Created wheel for emoji: filename=emoji-1.7.0-py3-none-any.whl size=171033 sha256=964a6d1e6b6d00c0bbce8cf124232d7a197dd0dc58efa287de30e4ac3e62b5ea\n",
            "  Stored in directory: /root/.cache/pip/wheels/31/8a/8c/315c9e5d7773f74b33d5ed33f075b49c6eaeb7cedbb86e2cf8\n",
            "Successfully built emoji\n",
            "Installing collected packages: emoji, ftfy, clean-text\n",
            "Successfully installed clean-text-0.6.0 emoji-1.7.0 ftfy-6.1.1\n"
          ]
        }
      ],
      "source": [
        "pip install clean-text\n"
      ]
    },
    {
      "cell_type": "markdown",
      "source": [
        "1.Remove emoji's from the raw data"
      ],
      "metadata": {
        "id": "yMnOtx_nNW65"
      }
    },
    {
      "cell_type": "code",
      "execution_count": 8,
      "metadata": {
        "colab": {
          "base_uri": "https://localhost:8080/"
        },
        "id": "oJMzdYm6om-Z",
        "outputId": "c12189db-2b73-4a2e-c4de-11c36d51a1af"
      },
      "outputs": [
        {
          "output_type": "stream",
          "name": "stderr",
          "text": [
            "WARNING:root:Since the GPL-licensed package `unidecode` is not installed, using Python's `unicodedata` package which yields worse results.\n"
          ]
        },
        {
          "output_type": "stream",
          "name": "stdout",
          "text": [
            "['here are ....\n",
            "1. swachh bharat abhiyan (\"clean india\")\n",
            "2. pradhan mantri kaushal vikas yojana (pmkvy)\n",
            "3. make in india\n",
            "4. jan dhan yojana\n",
            "5. mann ki baat\n",
            "6. ayushman bharat\n",
            "7. digital india\n",
            "8. atmanirbhar bharat\n",
            "9. trippal talaq\n",
            "10. online payments\n",
            "11. ujwala yojana\n",
            "13. housing https://t.co/03mhvtxglp', 'the atmanirbhar bharat abhiyan has encouraged self-reliance, fostering entrepreneurship and indigenous innovation. #9yearsofeaseofbusiness https://t.co/0e7b2sbkph', 'the atmanirbhar bharat abhiyan has encouraged self-reliance, fostering entrepreneurship and indigenous innovation. #9yearsofeaseofbusiness https://t.co/caapikvbrh', 'the atmanirbhar bharat abhiyan has encouraged self-reliance, fostering entrepreneurship and indigenous innovation. #9yearsofeaseofbusiness https://t.co/jdnb9x5jew', \"the remarkable progress of the indian economy, under the leadership of hon'ble pm shri @narendramodi ji, can be attributed to his visionary atmanirbhar bharat abhiyan, the digital payment revolution, and comprehensive economic reforms.\n",
            "#9yearsofeconomicreforms https://t.co/3r7n1zmbbs\", 'and urban landscapes. the atmanirbhar bharat abhiyan, aimed at boosting domestic manufacturing and reducing dependence on imports, has spurred innovation, job creation, and economic resilience.\n",
            "(6)', \"dairy schemes\n",
            "dairy infrastructure. development fund (didf) animal husbandry infrastructure. development fund (ahidf)\n",
            "dahd.nic.in/schemes/progra\n",
            "ahidf.udyamimitra.in\n",
            "the recently announced prime minister's atmanirbhar bharat abhiyan https://t.co/pjkpweb0ui\", 'pradhan mantri atmanirbhar bharat abhiyan (abha)\n",
            "paramparagat krishi vikas yojana (pkvy)\n",
            "pradhan mantri krishi sinchai yojana (pmksy)\n",
            "pm krishi sampada yojana\n",
            "2/', \"@pintukirtijain1 @ranakshrana @kesariya_meenu atmanirbhar bharat,\n",
            "11.make in india,\n",
            "12.made in india,\n",
            "13.defence sector atmanirbhar,\n",
            "14.5g\n",
            "15.indian diaspora,\n",
            "16.promoting indian cultural touristg20\n",
            "17.removing colonial mentality,world's tallest statue\n",
            "18.swachh bharat abhiyan,\n",
            "19.jan dhan yojana,\", 'the first edition of the pli scheme for textiles was established in 2021 as a part of the atmanirbhar bharat abhiyan\n",
            "textilesouthasia.com/2023/05/31/tex\n",
            "#atmanirbharbhirha #textileministeryofindia #investment #materials', 'atmanirbhar bharat abhiyan | atmanirbhar bharat mission objectives\n",
            "find details here - sarkariyojnaa.org/atmanirbhar-bh\n",
            "#sarkariyojana #govtschemes #sarkariyojna #centralschemes #atmanirbharbharatabhiyan', '\n",
            "9 years 9 achievement of modi sarkar\n",
            "swaccha bharat abhiyan\n",
            "atmanirbhar bharat\n",
            "digital india\n",
            "development and upgradation of roads, railways, education, science, it etc. infrastructure', '10 best things modi government has done so far\n",
            "1. upi\n",
            "2. abrogation of article 370\n",
            "3. jan dhan yojana\n",
            "4. ayushman bharat\n",
            "5. digital india\n",
            "6. atmanirbhar bharat- vocal for local\n",
            "7. swachh bharat abhiyan\n",
            "8.make in india\n",
            "9.gst-one nation one market\n",
            "10. not a single corruption charg', \"@sanjeevdelhincr @narendramodi atmanirbhar bharat, make in india, made in india, defence sector atmanirbhar, 5g, atmanirbhar covid vaccine, indian diaspora, promoting indian cultural tourist, removing colonial mentality, world's tallest statue, swachh bharat abhiyan, jan dhan yojana, vande bharat express....\", \"9 years of modi & the 9 reasons i'll vote for him in 2024\n",
            "1. 370 abortion\n",
            "2. jan dhan\n",
            "3. road infrastructure\n",
            "4. india's covid vaccine free to all\n",
            "5. north east devlopment\n",
            "6. made in india vande bharat train\n",
            "7. jal jeevan mission\n",
            "8. atmanirbhar bharat abhiyan\n",
            "9 mudra loan\", '@narendramodi sir,\n",
            "we all are very excited for the new parliament building. it is a tableau of atmanirbhar bharat abhiyan. this parliament is not just a building but a bright future of india is stored in it.\n",
            "thank you sir.\n",
            "#myparliamentmypride', 'make in india\n",
            "foreign policy put on fast-track mode\n",
            "swachh bharat abhiyan (clean india campaign)\n",
            "jan dhan yojana\n",
            "economic reforms and policy implementation\n",
            "confidence-building measures in kashmir\n",
            "ayushman bharat\n",
            "digital india\n",
            "atmanirbhar bharat- vocal for local\n",
            "mann ki baat', \"@collectorcu\n",
            "#aatmanirbharbharat\n",
            "#womenempowerment\n",
            "#indipendent\n",
            "here our prime minister started atmanirbhar bharat abhiyan to motivate our youth including women's, meanwhile this corrupted officer's rejecting the forum with no reason... need an reason for this. https://t.co/i3bg1l4dmb\", 'to tackle the slowdown of economy due to covid-19 pandemic 2nd economic relief package for j&k announced\n",
            "earlier, a 20 lakh crore package was released under 'atmanirbhar bharat abhiyan', focusing msmes, priority sectors & vulnerable segments.\n",
            "#globalkashmir https://t.co/yeya9anhgu', '@earthshuman4 @aryan3711 @theabhishek_ind @ekamsbharat make in india,swacch bharat abhiyan, jan dhan yojna,economic reforms and policy implementation,foreign policy put on fast-track mode, remove article 370,triple talaq,ayushman bharat, digital india,atmanirbhar bharat, ayodhya shri ram mandir,5th largest economy in the world', 'as pm @narendramodi graces us with his presence in karnataka, we are proud to highlight his efforts towards empowering our msme sector. moreover, the atmanirbhar bharat abhiyan has provided them with a much-needed boost. #karwantsdoubleengine @annamalai_k', 'free tailoring training will be given to the girls of jewar area. by making atmanirbhar bharat abhiyan meaningful\n",
            "#badaltajewar https://t.co/zxilduguls', 'free saree training will be given to the children of jewar area. rural and poor women who are viable for atmanirbhar bharat abhiyan will get selection at their home itself.\n",
            "#badaltajewar https://t.co/sh4ikz2qpn', 'by making atmanirbhar bharat abhiyan meaningful, employment will be made available to rural and poor women at their homes. #badaltajewar', 'free tailoring training will be given to the girls of jewar area. by making atmanirbhar bharat abhiyan meaningful #badaltajewar', 'honored to have pm @narendramodi in karnataka! your efforts towards creating a self-reliant india through the atmanirbhar bharat abhiyan have spurred innovation and entrepreneurship. #nannavotemodige', \"despite govt's initiatives like make in india, atmanirbhar bharat abhiyan, demand for core sectors like steel, electricity, cement, coal, etc. remains weak.\n",
            "@nsitharaman , does falling output of core sectors signal decline in investment, employment, govt. revenue & inflation? https://t.co/dmemxzzbza\", \"4. first time in india, a private company will make military aircraft, which is in gujarat's vadodara. the contract is of 21,935-crore with airbus defence and space for 56 c-295 planes to give a push to the atmanirbhar bharat abhiyan.\", \"may i know which india are you living in where you didn't notice the following:\n",
            "- ujwala\n",
            "- make in india\n",
            "- swachh bharat abhiyan\n",
            "- jan dhan yojana\n",
            "- economic reforms\n",
            "- foreign policy\n",
            "- article 370\n",
            "- digital india\n",
            "- atmanirbhar bharat\n",
            "- ram mandir\n",
            "- vande bharat\n",
            "many more....\", 'government initiatives:\n",
            "the indian government has introduced several initiatives to support the growth of msmes, including the atmanirbhar bharat abhiyan, which aims to make india self-reliant and support domestic businesses.', '#indiaatun\n",
            "\"'s initiatives like atmanirbhar bharat abhiyan, skill india mission & national mental health program show our commitment to #youth empowerment...\"\n",
            ": shri @ianuragthakur, minister of @yasministry delivers #india's statement at ecosoc #youth2030 forum https://t.co/lyfgjkoshx', 'the atmanirbhar bharat abhiyan of the government of india (goi), which is aimed at limiting import dependence and increasing the demand for indigenous products, also provides better growth opportunities for the company.\n",
            "further, tnl's application for the design-led production', \"what happened 'make in india' or 'atmanirbhar bharat' abhiyan?? https://t.co/gdjwtymihd\", \"#live | pm modi inaugurates rozgar mela. says, 'the approach of atmanirbhar bharat abhiyan is not limited.'\n",
            "#pmmodi #rozgarmela #atmanirbharbharatabhiyan\n",
            "youtube.com/watch?v=qtlfu9 https://t.co/kbvvzwzjaz\", \"#breaking | pm modi inaugurates rozgar mela. says, 'the approach of atmanirbhar bharat abhiyan is not limited.'\n",
            "#pmmodi #rozgarmela #atmanirbharbharatabhiyan\n",
            "youtube.com/watch?v=qtlfu9 https://t.co/cjvbjypr6k\", \"'banarasi paan, langda mango from kashi make it to gi club'\n",
            "with the inspiration of pm @narendramodi, the gi goods are going from local to global in atmanirbhar bharat abhiyan and the country is displaying its heritage all over the world.\n",
            "kudos\n",
            "timesofindia.indiatimes.com/city/varanasi/ https://t.co/5jiawgk0qd\", \"@narendramodi the goi has launched the atmanirbhar bharat abhiyan with a focus on empowering msmes and promoting self-reliance.\n",
            "the union budget 2021-22 has allocated rs 15,700 crore for the ministry of micro, small & medium enterprises, which is a 64% increase from the previous year's budget\", 'pm svanidhi\n",
            "the ministry of housing and urban affairs (mohua) launched pm svanidhi, for providing affordable loans to street vendors.\n",
            "it was announced as a part of the economic stimulus-ii under the atmanirbhar bharat abhiyan.', 'the ministry of housing and urban affairs (mohua) launched pm svanidhi, for providing affordable loans to street vendors.\n",
            "it was announced as a part of the economic stimulus-ii under the atmanirbhar bharat abhiyan.', \"a warm welcome to prime minister shri @narendramodi, who has been taking significant steps towards the development of the country's msme sector through schemes like the atmanirbhar bharat abhiyan and stand-up india. #modiinmahasangama https://t.co/vherxc4x2g\", 'the government has launched several initiatives to address these challenges, including the make in india campaign, digital india, and the atmanirbhar bharat abhiyan, which aim to boost manufacturing, promote digitalization, and make india self-reliant in key sectors.', '@bjp4karnataka #9yearsofnda #9x9\n",
            "swachh bharat abhiyan\n",
            "ayushman bharat\n",
            "ujjwala yojana\n",
            "pm-kisan\n",
            "atmanirbhar bharat\n",
            "make in india\n",
            "digital india\n",
            "jan dhan yojana\n",
            "gst\n",
            "seva aur samarthan, modi ki pehchan', 'department of animal husbandry and dairying initiated animal husbandry infrastructure development fund with a scheme outlay of rs.15000 crore under atmanirbhar bharat abhiyan stimulus package.\n",
            "read more: pib.gov.in/pressreleasepa', \"madhya pradesh is contributing towards the 'atmanirbhar bharat abhiyan' by promoting the use of 'khadhi' products. the state government has made it mandatory for all employees to wear khadhi clothes once a week. @chouhanshivraj #mpeconomicsurvey https://t.co/rvpedtatwz\", 'not only the vaccination drive but relief schemes under the \"atmanirbhar bharat abhiyan\" assisted the msmes and social sector while providing employment through aatmanirbhar bharat rozgar yojana and pm garib kalyan rozgar yojana.\n",
            "3/4', 'swavalambi bharat abhiyan was initiated by @rssorg a year ago with an intent to realise atmanirbhar bharat by nudging youth to be employment generators through entrepreneurship rather than be employment seekers. took part in 3 day workshop conducted at pusa, new delhi https://t.co/u7vmipy61r', \"financing facility for women empowerment under atmanirbhar bharat abhiyan\n",
            "block calendar: 18th feb 2023 11:30 am to 12:00 am for fempreneur talks show and watch live at vyapaar jagat tv\n",
            "subscribe to youtube.com/vyapaarjagattv now, so you don't miss it out.\n",
            "#fempreneur #women https://t.co/gqfetslksi\", 'atmanirbhar bharat abhiyan | atmanirbhar bharat mission objectives\n",
            "sarkariyojnaa.org/atmanirbhar-bh\n",
            "#sarkariyojana #govtschemes #sarkariyojna #centralschemes', 'govt is continuously giving emphasis on innovation & entrepreneurship. today our youth are showing the power of their innovation to the world. the country started reaping the benefits of success of made in india campaign, atmanirbhar bharat abhiyan: #president\n",
            "#budgetsession2023', '5. atmanirbhar bharat abhiyan:-\n",
            "this initiative aims to promote self-reliance and reduce dependence on imports. it includes a range of measures to support businesses including startups, such as tax incentives, access to funding and measures to promote exports. #atmanirbharbharat', 'natural capital corporation, canada is offering patented hydropyrolysis technology to indian communities, fully funded program, accomplishing bharat swachh abhiyan, atmanirbhar bharat. debt free program. natcap.world', '\"india has been on the path of \"reform, transform and perform\" since 2014, the pm said.\n",
            "the atmanirbhar bharat abhiyan has imparted greater momentum to it. as a result, india has become an attractive destination for investment, helnkd.in/ga8eqy_6 lnkd.in/grpc3g_k', '@tpdass4 @suvojitc @ysathishreddy @ktrtrs @trbrajaa @atishiaap @zoo_bear @aartic02 @prakashraaj @syedhazeena @manojdhopchandi @pbhushan1 1- make in india\n",
            "2-swachh bharat abhiyan\n",
            "3- removing article 370\n",
            "4-a strong india which is feared by many nations\n",
            "5-atmanirbhar bharat\n",
            "6-give orders for 2 surgical strike in pakistan (ghar mai ghus ke maarenge)\n",
            "7-making strong relation with russia,usa,israel,etc.\n",
            "and many more', 'in line with the government's \"atmanirbhar #bharat abhiyan'', namasthe world, a newly formed children's #toy and #gaming brand based out of hyderabad has announced its launch promising to offer a holistic #360-degree experience for kids.\n",
            "indianretailer.com/news/namasthe-', ' . r balasubramaniam.\n",
            "i strongly believe that the \"atmanirbhar bharat abhiyan\" has strengthened our economy and empowered the youth.\n",
            "indianexpress.com/article/opinio', '\"atmanirbhar bharat abhiyan\"\n",
            "india is on path of reform, transform and perform: pm modi to global investors\n",
            "livemint.com/news/india/ind\n",
            "via namo app https://t.co/wwzeatunki', 'madhya pradesh is the ideal global investment destination: goyal\n",
            "#atmanirbhar_bharat_abhiyan #chouhanshivraj #green_hydrogen_mission #madhya_pradesh #mp_mygov #narendramodi #piyushgoyal #pmoindia #twitterindia #us #news #indicanews #indoamericannews\n",
            "indicanews.com/2023/01/11/mad', 'madhya pradesh is the ideal global investment destination: goyal\n",
            "#atmanirbhar_bharat_abhiyan #chouhanshivraj #green_hydrogen_mission #madhya_pradesh #mp_mygov #narendramodi #piyushgoyal #pmoindia #twitterindia #us #news #indicanews #indoamericannews\n",
            "indicanews.com/2023/01/11/mad', 'latest:even during once-in-a-century crisis, we took the path of reforms.india has been on the path of reform, transform & perform since 2014.atmanirbhar bharat abhiyan has imparted greater momentum to it. as a result,india has become an attractive destination for investment: pm', 'even during a once-in-a-century crisis, we took the path of reforms. india has been on the path of reform, transform & perform since 2014. atmanirbhar bharat abhiyan has imparted greater momentum to it. as a result, india has become an attractive destination for investment: pm https://t.co/3w4lcwy9sr', 'even during a once-in-a-century crisis, we took the path of reforms. india has been on the path of reform, transform & perform since 2014. atmanirbhar bharat abhiyan has imparted greater momentum to it. as a result, india has become an attractive destination for investment: pm https://t.co/ozaf8ziw4c', 'as part of the atmanirbhar bharat abhiyan, the sunni dam project will provide local suppliers, msmes, and entrepreneurs with new opportunities and encourage employment and socio-economic development in the region.\n",
            "#makeinindia #investment #infrastructure', '@narendramodi @rajnathsingh the strategy of atmanirbhar bharat abhiyan seems to give strong supply-side push by boosting availability of capital on easy terms and through supporting agriculture and business sectors to make its citizens self-reliant on pillars of economy,demand, infrastructure\n",
            "@tandonraveena https://t.co/4w2tw4ibss', \".@adgpi inaugurates first-ever two-storey 3-d printed house dwelling unit at ahmedabad.\n",
            "the structure also stands testament to the commitment of the indian army in fostering the 'atmanirbhar bharat abhiyan'.\n",
            "read here: pib.gov.in/pressreleasepa\n",
            "@defenceminindia https://t.co/r2oi5oyady\", \"indian army inaugurated first-ever two-storey 3-d printed house dwelling unit at ahmedabad.\n",
            "the structure also stands testament to the commitment of the indian army in fostering the 'atmanirbhar bharat abhiyan'.\n",
            "@defenceminindia https://t.co/zkt4pba7qc\", \".@adgpi inaugurates first-ever two-storey 3-d printed house dwelling unit at ahmedabad.\n",
            "the structure also stands testament to the commitment of the indian army in fostering the 'atmanirbhar bharat abhiyan'.\n",
            "read here: pib.gov.in/pressreleasepa\n",
            "@defenceminindia https://t.co/ts9ythn5rc\", 'avnl is proud to be a strong contributor towards the atmanirbhar bharat abhiyan of the government of india.\n",
            "this is a significant achievement of mtpf, a unit of avnl, towards meeting requirements of such special purpose equipment through indigenous efforts.', '(5/7)pm svanidhi scheme:\n",
            "the scheme was announced as a part of the economic stimulus-ii under the atmanirbhar bharat abhiyan.', \"@drishtiiaseng c\n",
            "part of the economic stimulus-ii under the atmanirbhar bharat abhiyan.(2020)\n",
            "fully funded by ministry of housing and urban,available to all street vendors in urban areas. sidbi is partner\n",
            "it's extension svanidhi se samriddhi' map socio-economic profile of beneficiaries\", \"@thewayfarer14 @smarajitk @abhishbanerj completely agree!so you should support uniform civilcode&atmanirbhar bharat abhiyan?!you are missing/ignoring the point i stated!even if it's coal its cheaper than oil!cost of import is also cheaper!reserves will be least impacted comparatively?btw have you got sollar panels yet?\", 'bjp is moving ahead with the resolution of atmanirbhar bharat abhiyan.\n",
            "#___', 'bjp is moving ahead with the resolution of atmanirbhar bharat abhiyan.\n",
            "#___', 'such a proud feeling to see bjp is moving ahead with the resolution of atmanirbhar bharat abhiyan.\n",
            "#___ https://t.co/pmy4luspjp', 'bjp is moving ahead with the resolution of atmanirbhar bharat abhiyan.\n",
            "#___ https://t.co/2kaed1g9gj', \"@drusawasthi @fertmin_india congraulations,awasthi ji,under our pm's vision ,iffco, r&d shatters the 5 nanometer particle size for nanu urea down from current 20 nanometer size made in india under atmanirbhar bharat abhiyan, by iffco for india and the globe.\", 'as if makeinindia,national logistics,semiconductor policy ,weapons,aircraft defence indegenisation,abha scheme,atmanirbhar bharat scheme,swach bharat abhiyan,digital india,national supercomputing mission is brought by mughals to india in 2022. start reading newspaper.', 'atmanirbhar bharat abhiyan - was brought by modiji\n",
            "#vanakkam_modi ', 'atmanirbhar bharat abhiyan - was brought by modiji #vikaskadoubleengine @bjymintn', 'atmanirbhar bharat abhiyan - was brought by modiji #vikaskadoubleengine @bjymintn', '.atmanirbhar bharat abhiyan - was brought by modiji #vikaskadoubleengine @bjymintn', 'atmanirbhar bharat abhiyan - was brought by modiji #vikaskadoubleengine @bjymintn', '.atmanirbhar bharat abhiyan - was brought by modiji #vikaskadoubleengine @bjymintn', 'atmanirbhar bharat abhiyan - was brought by modiji #vikaskadoubleengine\n",
            "@bjymintn']\n"
          ]
        }
      ],
      "source": [
        "from cleantext import clean\n",
        "l2=[]\n",
        "l2.append(clean(l, no_emoji=True))\n",
        "print(*l2)"
      ]
    },
    {
      "cell_type": "markdown",
      "source": [
        "2.Remove **Hashtags** and **URLs** using **regex** library"
      ],
      "metadata": {
        "id": "XISaevEiCP9b"
      }
    },
    {
      "cell_type": "code",
      "execution_count": 9,
      "metadata": {
        "colab": {
          "base_uri": "https://localhost:8080/"
        },
        "id": "stQpMqU5Cbka",
        "outputId": "4e204b76-c463-429b-ac1d-7879e356c0a4"
      },
      "outputs": [
        {
          "output_type": "stream",
          "name": "stdout",
          "text": [
            "['here are ....\n",
            "1. swachh bharat abhiyan (\"clean india\")\n",
            "2. pradhan mantri kaushal vikas yojana (pmkvy)\n",
            "3. make in india\n",
            "4. jan dhan yojana\n",
            "5. mann ki baat\n",
            "6. ayushman bharat\n",
            "7. digital india\n",
            "8. atmanirbhar bharat\n",
            "9. trippal talaq\n",
            "10. online payments\n",
            "11. ujwala yojana\n",
            "13. housing  'the atmanirbhar bharat abhiyan has encouraged self-reliance, fostering entrepreneurship and indigenous innovation.   'the atmanirbhar bharat abhiyan has encouraged self-reliance, fostering entrepreneurship and indigenous innovation.   'the atmanirbhar bharat abhiyan has encouraged self-reliance, fostering entrepreneurship and indigenous innovation.   \"the remarkable progress of the indian economy, under the leadership of hon'ble pm shri  ji, can be attributed to his visionary atmanirbhar bharat abhiyan, the digital payment revolution, and comprehensive economic reforms.\n",
            "  'and urban landscapes. the atmanirbhar bharat abhiyan, aimed at boosting domestic manufacturing and reducing dependence on imports, has spurred innovation, job creation, and economic resilience.\n",
            "(6)', \"dairy schemes\n",
            "dairy infrastructure. development fund (didf) animal husbandry infrastructure. development fund (ahidf)\n",
            "dahd.nic.in/schemes/progra\n",
            "ahidf.udyamimitra.in\n",
            "the recently announced prime minister's atmanirbhar bharat abhiyan  'pradhan mantri atmanirbhar bharat abhiyan (abha)\n",
            "paramparagat krishi vikas yojana (pkvy)\n",
            "pradhan mantri krishi sinchai yojana (pmksy)\n",
            "pm krishi sampada yojana\n",
            "2/', \"   atmanirbhar bharat,\n",
            "11.make in india,\n",
            "12.made in india,\n",
            "13.defence sector atmanirbhar,\n",
            "14.5g\n",
            "15.indian diaspora,\n",
            "16.promoting indian cultural touristg20\n",
            "17.removing colonial mentality,world's tallest statue\n",
            "18.swachh bharat abhiyan,\n",
            "19.jan dhan yojana,\", 'the first edition of the pli scheme for textiles was established in 2021 as a part of the atmanirbhar bharat abhiyan\n",
            "textilesouthasia.com/2023/05/31/tex\n",
            "   ', 'atmanirbhar bharat abhiyan | atmanirbhar bharat mission objectives\n",
            "find details here - sarkariyojnaa.org/atmanirbhar-bh\n",
            "    ', '\n",
            "9 years 9 achievement of modi sarkar\n",
            "swaccha bharat abhiyan\n",
            "atmanirbhar bharat\n",
            "digital india\n",
            "development and upgradation of roads, railways, education, science, it etc. infrastructure', '10 best things modi government has done so far\n",
            "1. upi\n",
            "2. abrogation of article 370\n",
            "3. jan dhan yojana\n",
            "4. ayushman bharat\n",
            "5. digital india\n",
            "6. atmanirbhar bharat- vocal for local\n",
            "7. swachh bharat abhiyan\n",
            "8.make in india\n",
            "9.gst-one nation one market\n",
            "10. not a single corruption charg', \"  atmanirbhar bharat, make in india, made in india, defence sector atmanirbhar, 5g, atmanirbhar covid vaccine, indian diaspora, promoting indian cultural tourist, removing colonial mentality, world's tallest statue, swachh bharat abhiyan, jan dhan yojana, vande bharat express....\", \"9 years of modi & the 9 reasons i'll vote for him in 2024\n",
            "1. 370 abortion\n",
            "2. jan dhan\n",
            "3. road infrastructure\n",
            "4. india's covid vaccine free to all\n",
            "5. north east devlopment\n",
            "6. made in india vande bharat train\n",
            "7. jal jeevan mission\n",
            "8. atmanirbhar bharat abhiyan\n",
            "9 mudra loan\", ' sir,\n",
            "we all are very excited for the new parliament building. it is a tableau of atmanirbhar bharat abhiyan. this parliament is not just a building but a bright future of india is stored in it.\n",
            "thank you sir.\n",
            "', 'make in india\n",
            "foreign policy put on fast-track mode\n",
            "swachh bharat abhiyan (clean india campaign)\n",
            "jan dhan yojana\n",
            "economic reforms and policy implementation\n",
            "confidence-building measures in kashmir\n",
            "ayushman bharat\n",
            "digital india\n",
            "atmanirbhar bharat- vocal for local\n",
            "mann ki baat', \"\n",
            "\n",
            "\n",
            "\n",
            "here our prime minister started atmanirbhar bharat abhiyan to motivate our youth including women's, meanwhile this corrupted officer's rejecting the forum with no reason... need an reason for this.  'to tackle the slowdown of economy due to covid-19 pandemic 2nd economic relief package for j&k announced\n",
            "earlier, a 20 lakh crore package was released under 'atmanirbhar bharat abhiyan', focusing msmes, priority sectors & vulnerable segments.\n",
            "  '    make in india,swacch bharat abhiyan, jan dhan yojna,economic reforms and policy implementation,foreign policy put on fast-track mode, remove article 370,triple talaq,ayushman bharat, digital india,atmanirbhar bharat, ayodhya shri ram mandir,5th largest economy in the world', 'as pm  graces us with his presence in karnataka, we are proud to highlight his efforts towards empowering our msme sector. moreover, the atmanirbhar bharat abhiyan has provided them with a much-needed boost.  ', 'free tailoring training will be given to the girls of jewar area. by making atmanirbhar bharat abhiyan meaningful\n",
            "  'free saree training will be given to the children of jewar area. rural and poor women who are viable for atmanirbhar bharat abhiyan will get selection at their home itself.\n",
            "  'by making atmanirbhar bharat abhiyan meaningful, employment will be made available to rural and poor women at their homes. ', 'free tailoring training will be given to the girls of jewar area. by making atmanirbhar bharat abhiyan meaningful ', 'honored to have pm  in karnataka! your efforts towards creating a self-reliant india through the atmanirbhar bharat abhiyan have spurred innovation and entrepreneurship. ', \"despite govt's initiatives like make in india, atmanirbhar bharat abhiyan, demand for core sectors like steel, electricity, cement, coal, etc. remains weak.\n",
            " , does falling output of core sectors signal decline in investment, employment, govt. revenue & inflation?  \"4. first time in india, a private company will make military aircraft, which is in gujarat's vadodara. the contract is of 21,935-crore with airbus defence and space for 56 c-295 planes to give a push to the atmanirbhar bharat abhiyan.\", \"may i know which india are you living in where you didn't notice the following:\n",
            "- ujwala\n",
            "- make in india\n",
            "- swachh bharat abhiyan\n",
            "- jan dhan yojana\n",
            "- economic reforms\n",
            "- foreign policy\n",
            "- article 370\n",
            "- digital india\n",
            "- atmanirbhar bharat\n",
            "- ram mandir\n",
            "- vande bharat\n",
            "many more....\", 'government initiatives:\n",
            "the indian government has introduced several initiatives to support the growth of msmes, including the atmanirbhar bharat abhiyan, which aims to make india self-reliant and support domestic businesses.', '\n",
            "\"'s initiatives like atmanirbhar bharat abhiyan, skill india mission & national mental health program show our commitment to  empowerment...\"\n",
            ": shri , minister of  delivers 's statement at ecosoc  forum  'the atmanirbhar bharat abhiyan of the government of india (goi), which is aimed at limiting import dependence and increasing the demand for indigenous products, also provides better growth opportunities for the company.\n",
            "further, tnl's application for the design-led production', \"what happened 'make in india' or 'atmanirbhar bharat' abhiyan??  \" | pm modi inaugurates rozgar mela. says, 'the approach of atmanirbhar bharat abhiyan is not limited.'\n",
            "  \n",
            "youtube.com/watch?v=qtlfu9  \" | pm modi inaugurates rozgar mela. says, 'the approach of atmanirbhar bharat abhiyan is not limited.'\n",
            "  \n",
            "youtube.com/watch?v=qtlfu9  \"'banarasi paan, langda mango from kashi make it to gi club'\n",
            "with the inspiration of pm , the gi goods are going from local to global in atmanirbhar bharat abhiyan and the country is displaying its heritage all over the world.\n",
            "kudos\n",
            "timesofindia.indiatimes.com/city/varanasi/  \" the goi has launched the atmanirbhar bharat abhiyan with a focus on empowering msmes and promoting self-reliance.\n",
            "the union budget 2021-22 has allocated rs 15,700 crore for the ministry of micro, small & medium enterprises, which is a 64% increase from the previous year's budget\", 'pm svanidhi\n",
            "the ministry of housing and urban affairs (mohua) launched pm svanidhi, for providing affordable loans to street vendors.\n",
            "it was announced as a part of the economic stimulus-ii under the atmanirbhar bharat abhiyan.', 'the ministry of housing and urban affairs (mohua) launched pm svanidhi, for providing affordable loans to street vendors.\n",
            "it was announced as a part of the economic stimulus-ii under the atmanirbhar bharat abhiyan.', \"a warm welcome to prime minister shri , who has been taking significant steps towards the development of the country's msme sector through schemes like the atmanirbhar bharat abhiyan and stand-up india.   'the government has launched several initiatives to address these challenges, including the make in india campaign, digital india, and the atmanirbhar bharat abhiyan, which aim to boost manufacturing, promote digitalization, and make india self-reliant in key sectors.', '  \n",
            "swachh bharat abhiyan\n",
            "ayushman bharat\n",
            "ujjwala yojana\n",
            "pm-kisan\n",
            "atmanirbhar bharat\n",
            "make in india\n",
            "digital india\n",
            "jan dhan yojana\n",
            "gst\n",
            "seva aur samarthan, modi ki pehchan', 'department of animal husbandry and dairying initiated animal husbandry infrastructure development fund with a scheme outlay of rs.15000 crore under atmanirbhar bharat abhiyan stimulus package.\n",
            "read more: pib.gov.in/pressreleasepa', \"madhya pradesh is contributing towards the 'atmanirbhar bharat abhiyan' by promoting the use of 'khadhi' products. the state government has made it mandatory for all employees to wear khadhi clothes once a week.    'not only the vaccination drive but relief schemes under the \"atmanirbhar bharat abhiyan\" assisted the msmes and social sector while providing employment through aatmanirbhar bharat rozgar yojana and pm garib kalyan rozgar yojana.\n",
            "3/4', 'swavalambi bharat abhiyan was initiated by  a year ago with an intent to realise atmanirbhar bharat by nudging youth to be employment generators through entrepreneurship rather than be employment seekers. took part in 3 day workshop conducted at pusa, new delhi  \"financing facility for women empowerment under atmanirbhar bharat abhiyan\n",
            "block calendar: 18th feb 2023 11:30 am to 12:00 am for fempreneur talks show and watch live at vyapaar jagat tv\n",
            "subscribe to youtube.com/vyapaarjagattv now, so you don't miss it out.\n",
            "   'atmanirbhar bharat abhiyan | atmanirbhar bharat mission objectives\n",
            "sarkariyojnaa.org/atmanirbhar-bh\n",
            "   ', 'govt is continuously giving emphasis on innovation & entrepreneurship. today our youth are showing the power of their innovation to the world. the country started reaping the benefits of success of made in india campaign, atmanirbhar bharat abhiyan: \n",
            "', '5. atmanirbhar bharat abhiyan:-\n",
            "this initiative aims to promote self-reliance and reduce dependence on imports. it includes a range of measures to support businesses including startups, such as tax incentives, access to funding and measures to promote exports. ', 'natural capital corporation, canada is offering patented hydropyrolysis technology to indian communities, fully funded program, accomplishing bharat swachh abhiyan, atmanirbhar bharat. debt free program. natcap.world', '\"india has been on the path of \"reform, transform and perform\" since 2014, the pm said.\n",
            "the atmanirbhar bharat abhiyan has imparted greater momentum to it. as a result, india has become an attractive destination for investment, helnkd.in/ga8eqy_6 lnkd.in/grpc3g_k', '            1- make in india\n",
            "2-swachh bharat abhiyan\n",
            "3- removing article 370\n",
            "4-a strong india which is feared by many nations\n",
            "5-atmanirbhar bharat\n",
            "6-give orders for 2 surgical strike in pakistan (ghar mai ghus ke maarenge)\n",
            "7-making strong relation with russia,usa,israel,etc.\n",
            "and many more', 'in line with the government's \"atmanirbhar  abhiyan'', namasthe world, a newly formed children's  and  brand based out of hyderabad has announced its launch promising to offer a holistic -degree experience for kids.\n",
            "indianretailer.com/news/namasthe-', ' . r balasubramaniam.\n",
            "i strongly believe that the \"atmanirbhar bharat abhiyan\" has strengthened our economy and empowered the youth.\n",
            "indianexpress.com/article/opinio', '\"atmanirbhar bharat abhiyan\"\n",
            "india is on path of reform, transform and perform: pm modi to global investors\n",
            "livemint.com/news/india/ind\n",
            "via namo app  'madhya pradesh is the ideal global investment destination: goyal\n",
            "            \n",
            "indicanews.com/2023/01/11/mad', 'madhya pradesh is the ideal global investment destination: goyal\n",
            "            \n",
            "indicanews.com/2023/01/11/mad', 'latest:even during once-in-a-century crisis, we took the path of reforms.india has been on the path of reform, transform & perform since 2014.atmanirbhar bharat abhiyan has imparted greater momentum to it. as a result,india has become an attractive destination for investment: pm', 'even during a once-in-a-century crisis, we took the path of reforms. india has been on the path of reform, transform & perform since 2014. atmanirbhar bharat abhiyan has imparted greater momentum to it. as a result, india has become an attractive destination for investment: pm  'even during a once-in-a-century crisis, we took the path of reforms. india has been on the path of reform, transform & perform since 2014. atmanirbhar bharat abhiyan has imparted greater momentum to it. as a result, india has become an attractive destination for investment: pm  'as part of the atmanirbhar bharat abhiyan, the sunni dam project will provide local suppliers, msmes, and entrepreneurs with new opportunities and encourage employment and socio-economic development in the region.\n",
            "  ', '  the strategy of atmanirbhar bharat abhiyan seems to give strong supply-side push by boosting availability of capital on easy terms and through supporting agriculture and business sectors to make its citizens self-reliant on pillars of economy,demand, infrastructure\n",
            "  \". inaugurates first-ever two-storey 3-d printed house dwelling unit at ahmedabad.\n",
            "the structure also stands testament to the commitment of the indian army in fostering the 'atmanirbhar bharat abhiyan'.\n",
            "read here: pib.gov.in/pressreleasepa\n",
            "  \"indian army inaugurated first-ever two-storey 3-d printed house dwelling unit at ahmedabad.\n",
            "the structure also stands testament to the commitment of the indian army in fostering the 'atmanirbhar bharat abhiyan'.\n",
            "  \". inaugurates first-ever two-storey 3-d printed house dwelling unit at ahmedabad.\n",
            "the structure also stands testament to the commitment of the indian army in fostering the 'atmanirbhar bharat abhiyan'.\n",
            "read here: pib.gov.in/pressreleasepa\n",
            "  'avnl is proud to be a strong contributor towards the atmanirbhar bharat abhiyan of the government of india.\n",
            "this is a significant achievement of mtpf, a unit of avnl, towards meeting requirements of such special purpose equipment through indigenous efforts.', '(5/7)pm svanidhi scheme:\n",
            "the scheme was announced as a part of the economic stimulus-ii under the atmanirbhar bharat abhiyan.', \" c\n",
            "part of the economic stimulus-ii under the atmanirbhar bharat abhiyan.(2020)\n",
            "fully funded by ministry of housing and urban,available to all street vendors in urban areas. sidbi is partner\n",
            "it's extension svanidhi se samriddhi' map socio-economic profile of beneficiaries\", \"   completely agree!so you should support uniform civilcode&atmanirbhar bharat abhiyan?!you are missing/ignoring the point i stated!even if it's coal its cheaper than oil!cost of import is also cheaper!reserves will be least impacted comparatively?btw have you got sollar panels yet?\", 'bjp is moving ahead with the resolution of atmanirbhar bharat abhiyan.\n",
            "', 'bjp is moving ahead with the resolution of atmanirbhar bharat abhiyan.\n",
            "', 'such a proud feeling to see bjp is moving ahead with the resolution of atmanirbhar bharat abhiyan.\n",
            "  'bjp is moving ahead with the resolution of atmanirbhar bharat abhiyan.\n",
            "  \"  congraulations,awasthi ji,under our pm's vision ,iffco, r&d shatters the 5 nanometer particle size for nanu urea down from current 20 nanometer size made in india under atmanirbhar bharat abhiyan, by iffco for india and the globe.\", 'as if makeinindia,national logistics,semiconductor policy ,weapons,aircraft defence indegenisation,abha scheme,atmanirbhar bharat scheme,swach bharat abhiyan,digital india,national supercomputing mission is brought by mughals to india in 2022. start reading newspaper.', 'atmanirbhar bharat abhiyan - was brought by modiji\n",
            " ', 'atmanirbhar bharat abhiyan - was brought by modiji  ', 'atmanirbhar bharat abhiyan - was brought by modiji  ', '.atmanirbhar bharat abhiyan - was brought by modiji  ', 'atmanirbhar bharat abhiyan - was brought by modiji  ', '.atmanirbhar bharat abhiyan - was brought by modiji  ', 'atmanirbhar bharat abhiyan - was brought by modiji \n",
            "']\n"
          ]
        }
      ],
      "source": [
        "import re\n",
        "l3=[]\n",
        "for i in l2:\n",
        "  i = re.sub(\"@[A-Za-z0-9_]+|#[A-Za-z0-9_]+|http\\S+\",\"\",i)\n",
        "  l3.append(i)\n",
        "print(*l3)\n"
      ]
    },
    {
      "cell_type": "markdown",
      "source": [
        "3.To remove **Stopwords** and **Punctuations** , we need to import **nltk** library and split the sentence into words using word_tokenization"
      ],
      "metadata": {
        "id": "jnblLQHRCtiC"
      }
    },
    {
      "cell_type": "code",
      "execution_count": 10,
      "metadata": {
        "colab": {
          "base_uri": "https://localhost:8080/"
        },
        "id": "yZ1JrFsrt2a7",
        "outputId": "a6ec9ef8-5d55-4c48-bc97-6cb2c9c471d9"
      },
      "outputs": [
        {
          "output_type": "stream",
          "name": "stderr",
          "text": [
            "[nltk_data] Downloading package punkt to /root/nltk_data...\n",
            "[nltk_data]   Unzipping tokenizers/punkt.zip.\n",
            "[nltk_data] Downloading package wordnet to /root/nltk_data...\n",
            "[nltk_data] Downloading package stopwords to /root/nltk_data...\n",
            "[nltk_data]   Unzipping corpora/stopwords.zip.\n"
          ]
        }
      ],
      "source": [
        "import nltk\n",
        "nltk.download(\"punkt\")\n",
        "nltk.download(\"wordnet\")\n",
        "nltk.download('stopwords')\n",
        "from nltk.corpus import stopwords\n",
        "from nltk.tokenize import word_tokenize\n",
        "import string"
      ]
    },
    {
      "cell_type": "code",
      "execution_count": 11,
      "metadata": {
        "colab": {
          "base_uri": "https://localhost:8080/"
        },
        "id": "hu9TZ78rHBDk",
        "outputId": "5e8a73ce-d22d-495a-915a-dc58d69f0b03"
      },
      "outputs": [
        {
          "output_type": "stream",
          "name": "stdout",
          "text": [
            "1 swachh bharat abhiyan clean india 2 pradhan mantri kaushal vikas yojana pmkvy 3 make india 4 jan dhan yojana 5 mann ki baat 6 ayushman bharat 7 digital india 8 atmanirbhar bharat 9 trippal talaq 10 online payments 11 ujwala yojana 13 housing atmanirbhar bharat abhiyan encouraged selfreliance fostering entrepreneurship indigenous innovation atmanirbhar bharat abhiyan encouraged selfreliance fostering entrepreneurship indigenous innovation atmanirbhar bharat abhiyan encouraged selfreliance fostering entrepreneurship indigenous innovation remarkable progress indian economy leadership honble pm shri ji attributed visionary atmanirbhar bharat abhiyan digital payment revolution comprehensive economic reforms urban landscapes atmanirbhar bharat abhiyan aimed boosting domestic manufacturing reducing dependence imports spurred innovation job creation economic resilience 6 dairy schemes dairy infrastructure development fund didf animal husbandry infrastructure development fund ahidf dahdnicinschemesprogra ahidfudyamimitrain recently announced prime ministers atmanirbhar bharat abhiyan pradhan mantri atmanirbhar bharat abhiyan abha paramparagat krishi vikas yojana pkvy pradhan mantri krishi sinchai yojana pmksy pm krishi sampada yojana 2 atmanirbhar bharat 11make india 12made india 13defence sector atmanirbhar 145g 15indian diaspora 16promoting indian cultural touristg20 17removing colonial mentalityworlds tallest statue 18swachh bharat abhiyan 19jan dhan yojana first edition pli scheme textiles established 2021 part atmanirbhar bharat abhiyan textilesouthasiacom20230531tex atmanirbhar bharat abhiyan atmanirbhar bharat mission objectives find details sarkariyojnaaorgatmanirbharbh 9 years 9 achievement modi sarkar swaccha bharat abhiyan atmanirbhar bharat digital india development upgradation roads railways education science etc infrastructure 10 best things modi government done far 1 upi 2 abrogation article 370 3 jan dhan yojana 4 ayushman bharat 5 digital india 6 atmanirbhar bharat vocal local 7 swachh bharat abhiyan 8make india 9gstone nation one market 10 single corruption charg atmanirbhar bharat make india made india defence sector atmanirbhar 5g atmanirbhar covid vaccine indian diaspora promoting indian cultural tourist removing colonial mentality worlds tallest statue swachh bharat abhiyan jan dhan yojana vande bharat express 9 years modi 9 reasons ill vote 2024 1 370 abortion 2 jan dhan 3 road infrastructure 4 indias covid vaccine free 5 north east devlopment 6 made india vande bharat train 7 jal jeevan mission 8 atmanirbhar bharat abhiyan 9 mudra loan sir excited new parliament building tableau atmanirbhar bharat abhiyan parliament building bright future india stored thank sir make india foreign policy put fasttrack mode swachh bharat abhiyan clean india campaign jan dhan yojana economic reforms policy implementation confidencebuilding measures kashmir ayushman bharat digital india atmanirbhar bharat vocal local mann ki baat prime minister started atmanirbhar bharat abhiyan motivate youth including womens meanwhile corrupted officers rejecting forum reason need reason tackle slowdown economy due covid19 pandemic 2nd economic relief package jk announced earlier 20 lakh crore package released atmanirbhar bharat abhiyan focusing msmes priority sectors vulnerable segments make indiaswacch bharat abhiyan jan dhan yojnaeconomic reforms policy implementationforeign policy put fasttrack mode remove article 370triple talaqayushman bharat digital indiaatmanirbhar bharat ayodhya shri ram mandir5th largest economy world pm graces us presence karnataka proud highlight efforts towards empowering msme sector moreover atmanirbhar bharat abhiyan provided muchneeded boost free tailoring training given girls jewar area making atmanirbhar bharat abhiyan meaningful free saree training given children jewar area rural poor women viable atmanirbhar bharat abhiyan get selection home making atmanirbhar bharat abhiyan meaningful employment made available rural poor women homes free tailoring training given girls jewar area making atmanirbhar bharat abhiyan meaningful honored pm karnataka efforts towards creating selfreliant india atmanirbhar bharat abhiyan spurred innovation entrepreneurship despite govts initiatives like make india atmanirbhar bharat abhiyan demand core sectors like steel electricity cement coal etc remains weak falling output core sectors signal decline investment employment govt revenue inflation 4 first time india private company make military aircraft gujarats vadodara contract 21935crore airbus defence space 56 c295 planes give push atmanirbhar bharat abhiyan may know india living didnt notice following ujwala make india swachh bharat abhiyan jan dhan yojana economic reforms foreign policy article 370 digital india atmanirbhar bharat ram mandir vande bharat many government initiatives indian government introduced several initiatives support growth msmes including atmanirbhar bharat abhiyan aims make india selfreliant support domestic businesses initiatives like atmanirbhar bharat abhiyan skill india mission national mental health program show commitment empowerment shri minister delivers statement ecosoc forum atmanirbhar bharat abhiyan government india goi aimed limiting import dependence increasing demand indigenous products also provides better growth opportunities company tnls application designled production happened make india atmanirbhar bharat abhiyan pm modi inaugurates rozgar mela says approach atmanirbhar bharat abhiyan limited youtubecomwatchvqtlfu9 pm modi inaugurates rozgar mela says approach atmanirbhar bharat abhiyan limited youtubecomwatchvqtlfu9 banarasi paan langda mango kashi make gi club inspiration pm gi goods going local global atmanirbhar bharat abhiyan country displaying heritage world kudos timesofindiaindiatimescomcityvaranasi goi launched atmanirbhar bharat abhiyan focus empowering msmes promoting selfreliance union budget 202122 allocated rs 15700 crore ministry micro small medium enterprises 64 increase previous years budget pm svanidhi ministry housing urban affairs mohua launched pm svanidhi providing affordable loans street vendors announced part economic stimulusii atmanirbhar bharat abhiyan ministry housing urban affairs mohua launched pm svanidhi providing affordable loans street vendors announced part economic stimulusii atmanirbhar bharat abhiyan warm welcome prime minister shri taking significant steps towards development countrys msme sector schemes like atmanirbhar bharat abhiyan standup india government launched several initiatives address challenges including make india campaign digital india atmanirbhar bharat abhiyan aim boost manufacturing promote digitalization make india selfreliant key sectors swachh bharat abhiyan ayushman bharat ujjwala yojana pmkisan atmanirbhar bharat make india digital india jan dhan yojana gst seva aur samarthan modi ki pehchan department animal husbandry dairying initiated animal husbandry infrastructure development fund scheme outlay rs15000 crore atmanirbhar bharat abhiyan stimulus package read pibgovinpressreleasepa madhya pradesh contributing towards atmanirbhar bharat abhiyan promoting use khadhi products state government made mandatory employees wear khadhi clothes week vaccination drive relief schemes atmanirbhar bharat abhiyan assisted msmes social sector providing employment aatmanirbhar bharat rozgar yojana pm garib kalyan rozgar yojana 34 swavalambi bharat abhiyan initiated year ago intent realise atmanirbhar bharat nudging youth employment generators entrepreneurship rather employment seekers took part 3 day workshop conducted pusa new delhi financing facility women empowerment atmanirbhar bharat abhiyan block calendar 18th feb 2023 1130 1200 fempreneur talks show watch live vyapaar jagat tv subscribe youtubecomvyapaarjagattv dont miss atmanirbhar bharat abhiyan atmanirbhar bharat mission objectives sarkariyojnaaorgatmanirbharbh govt continuously giving emphasis innovation entrepreneurship today youth showing power innovation world country started reaping benefits success made india campaign atmanirbhar bharat abhiyan 5 atmanirbhar bharat abhiyan initiative aims promote selfreliance reduce dependence imports includes range measures support businesses including startups tax incentives access funding measures promote exports natural capital corporation canada offering patented hydropyrolysis technology indian communities fully funded program accomplishing bharat swachh abhiyan atmanirbhar bharat debt free program natcapworld india path reform transform perform since 2014 pm said atmanirbhar bharat abhiyan imparted greater momentum result india become attractive destination investment helnkdinga8eqy6 lnkdingrpc3gk 1 make india 2swachh bharat abhiyan 3 removing article 370 4a strong india feared many nations 5atmanirbhar bharat 6give orders 2 surgical strike pakistan ghar mai ghus ke maarenge 7making strong relation russiausaisraeletc many line governments atmanirbhar abhiyan namasthe world newly formed childrens brand based hyderabad announced launch promising offer holistic degree experience kids indianretailercomnewsnamasthe r balasubramaniam strongly believe atmanirbhar bharat abhiyan strengthened economy empowered youth indianexpresscomarticleopinio atmanirbhar bharat abhiyan india path reform transform perform pm modi global investors livemintcomnewsindiaind via namo app madhya pradesh ideal global investment destination goyal indicanewscom20230111mad madhya pradesh ideal global investment destination goyal indicanewscom20230111mad latesteven onceinacentury crisis took path reformsindia path reform transform perform since 2014atmanirbhar bharat abhiyan imparted greater momentum resultindia become attractive destination investment pm even onceinacentury crisis took path reforms india path reform transform perform since 2014 atmanirbhar bharat abhiyan imparted greater momentum result india become attractive destination investment pm even onceinacentury crisis took path reforms india path reform transform perform since 2014 atmanirbhar bharat abhiyan imparted greater momentum result india become attractive destination investment pm part atmanirbhar bharat abhiyan sunni dam project provide local suppliers msmes entrepreneurs new opportunities encourage employment socioeconomic development region strategy atmanirbhar bharat abhiyan seems give strong supplyside push boosting availability capital easy terms supporting agriculture business sectors make citizens selfreliant pillars economydemand infrastructure inaugurates firstever twostorey 3d printed house dwelling unit ahmedabad structure also stands testament commitment indian army fostering atmanirbhar bharat abhiyan read pibgovinpressreleasepa indian army inaugurated firstever twostorey 3d printed house dwelling unit ahmedabad structure also stands testament commitment indian army fostering atmanirbhar bharat abhiyan inaugurates firstever twostorey 3d printed house dwelling unit ahmedabad structure also stands testament commitment indian army fostering atmanirbhar bharat abhiyan read pibgovinpressreleasepa avnl proud strong contributor towards atmanirbhar bharat abhiyan government india significant achievement mtpf unit avnl towards meeting requirements special purpose equipment indigenous efforts 57pm svanidhi scheme scheme announced part economic stimulusii atmanirbhar bharat abhiyan c part economic stimulusii atmanirbhar bharat abhiyan2020 fully funded ministry housing urbanavailable street vendors urban areas sidbi partner extension svanidhi se samriddhi map socioeconomic profile beneficiaries completely agreeso support uniform civilcodeatmanirbhar bharat abhiyanyou missingignoring point statedeven coal cheaper oilcost import also cheaperreserves least impacted comparativelybtw got sollar panels yet bjp moving ahead resolution atmanirbhar bharat abhiyan bjp moving ahead resolution atmanirbhar bharat abhiyan proud feeling see bjp moving ahead resolution atmanirbhar bharat abhiyan bjp moving ahead resolution atmanirbhar bharat abhiyan congraulationsawasthi jiunder pms vision iffco rd shatters 5 nanometer particle size nanu urea current 20 nanometer size made india atmanirbhar bharat abhiyan iffco india globe makeinindianational logisticssemiconductor policy weaponsaircraft defence indegenisationabha schemeatmanirbhar bharat schemeswach bharat abhiyandigital indianational supercomputing mission brought mughals india 2022 start reading newspaper atmanirbhar bharat abhiyan brought modiji atmanirbhar bharat abhiyan brought modiji atmanirbhar bharat abhiyan brought modiji atmanirbhar bharat abhiyan brought modiji atmanirbhar bharat abhiyan brought modiji atmanirbhar bharat abhiyan brought modiji atmanirbhar bharat abhiyan brought modiji\n"
          ]
        }
      ],
      "source": [
        "def remove_punctuation(sentence):\n",
        "  for i in sentence:\n",
        "    if i in string.punctuation:\n",
        "      sentence = sentence.replace(i, \"\")\n",
        "  return sentence\n",
        "def remove_stopwords(sentence):\n",
        "  stop_words = set(stopwords.words('english'))\n",
        "  word_tokens = word_tokenize(example_sent)\n",
        "  filtered_sentence = []\n",
        "  for w in word_tokens:\n",
        "    if w not in stop_words:\n",
        "      filtered_sentence.append(w)\n",
        "  return filtered_sentence\n",
        "sp=[]\n",
        "for i in l3:\n",
        "  example_sent = remove_punctuation(i)\n",
        "  example_sent = \" \".join(remove_stopwords(example_sent))\n",
        "  sp.append(example_sent)\n",
        "print(*sp)\n",
        "\n"
      ]
    },
    {
      "cell_type": "code",
      "execution_count": 12,
      "metadata": {
        "colab": {
          "base_uri": "https://localhost:8080/"
        },
        "id": "UwbDiRi4W4l3",
        "outputId": "190d3b9b-6217-4409-9291-8a82ff621fc6"
      },
      "outputs": [
        {
          "output_type": "stream",
          "name": "stdout",
          "text": [
            "['1', 'swachh', 'bharat', 'abhiyan', 'clean', 'india', '2', 'pradhan', 'mantri', 'kaushal', 'vikas', 'yojana', 'pmkvy', '3', 'make', 'india', '4', 'jan', 'dhan', 'yojana', '5', 'mann', 'ki', 'baat', '6', 'ayushman', 'bharat', '7', 'digital', 'india', '8', 'atmanirbhar', 'bharat', '9', 'trippal', 'talaq', '10', 'online', 'payments', '11', 'ujwala', 'yojana', '13', 'housing', 'atmanirbhar', 'bharat', 'abhiyan', 'encouraged', 'selfreliance', 'fostering', 'entrepreneurship', 'indigenous', 'innovation', 'atmanirbhar', 'bharat', 'abhiyan', 'encouraged', 'selfreliance', 'fostering', 'entrepreneurship', 'indigenous', 'innovation', 'atmanirbhar', 'bharat', 'abhiyan', 'encouraged', 'selfreliance', 'fostering', 'entrepreneurship', 'indigenous', 'innovation', 'remarkable', 'progress', 'indian', 'economy', 'leadership', 'honble', 'pm', 'shri', 'ji', 'attributed', 'visionary', 'atmanirbhar', 'bharat', 'abhiyan', 'digital', 'payment', 'revolution', 'comprehensive', 'economic', 'reforms', 'urban', 'landscapes', 'atmanirbhar', 'bharat', 'abhiyan', 'aimed', 'boosting', 'domestic', 'manufacturing', 'reducing', 'dependence', 'imports', 'spurred', 'innovation', 'job', 'creation', 'economic', 'resilience', '6', 'dairy', 'schemes', 'dairy', 'infrastructure', 'development', 'fund', 'didf', 'animal', 'husbandry', 'infrastructure', 'development', 'fund', 'ahidf', 'dahdnicinschemesprogra', 'ahidfudyamimitrain', 'recently', 'announced', 'prime', 'ministers', 'atmanirbhar', 'bharat', 'abhiyan', 'pradhan', 'mantri', 'atmanirbhar', 'bharat', 'abhiyan', 'abha', 'paramparagat', 'krishi', 'vikas', 'yojana', 'pkvy', 'pradhan', 'mantri', 'krishi', 'sinchai', 'yojana', 'pmksy', 'pm', 'krishi', 'sampada', 'yojana', '2', 'atmanirbhar', 'bharat', '11make', 'india', '12made', 'india', '13defence', 'sector', 'atmanirbhar', '145g', '15indian', 'diaspora', '16promoting', 'indian', 'cultural', 'touristg20', '17removing', 'colonial', 'mentalityworlds', 'tallest', 'statue', '18swachh', 'bharat', 'abhiyan', '19jan', 'dhan', 'yojana', 'first', 'edition', 'pli', 'scheme', 'textiles', 'established', '2021', 'part', 'atmanirbhar', 'bharat', 'abhiyan', 'textilesouthasiacom20230531tex', 'atmanirbhar', 'bharat', 'abhiyan', 'atmanirbhar', 'bharat', 'mission', 'objectives', 'find', 'details', 'sarkariyojnaaorgatmanirbharbh', '9', 'years', '9', 'achievement', 'modi', 'sarkar', 'swaccha', 'bharat', 'abhiyan', 'atmanirbhar', 'bharat', 'digital', 'india', 'development', 'upgradation', 'roads', 'railways', 'education', 'science', 'etc', 'infrastructure', '10', 'best', 'things', 'modi', 'government', 'done', 'far', '1', 'upi', '2', 'abrogation', 'article', '370', '3', 'jan', 'dhan', 'yojana', '4', 'ayushman', 'bharat', '5', 'digital', 'india', '6', 'atmanirbhar', 'bharat', 'vocal', 'local', '7', 'swachh', 'bharat', 'abhiyan', '8make', 'india', '9gstone', 'nation', 'one', 'market', '10', 'single', 'corruption', 'charg', 'atmanirbhar', 'bharat', 'make', 'india', 'made', 'india', 'defence', 'sector', 'atmanirbhar', '5g', 'atmanirbhar', 'covid', 'vaccine', 'indian', 'diaspora', 'promoting', 'indian', 'cultural', 'tourist', 'removing', 'colonial', 'mentality', 'worlds', 'tallest', 'statue', 'swachh', 'bharat', 'abhiyan', 'jan', 'dhan', 'yojana', 'vande', 'bharat', 'express', '9', 'years', 'modi', '9', 'reasons', 'ill', 'vote', '2024', '1', '370', 'abortion', '2', 'jan', 'dhan', '3', 'road', 'infrastructure', '4', 'indias', 'covid', 'vaccine', 'free', '5', 'north', 'east', 'devlopment', '6', 'made', 'india', 'vande', 'bharat', 'train', '7', 'jal', 'jeevan', 'mission', '8', 'atmanirbhar', 'bharat', 'abhiyan', '9', 'mudra', 'loan', 'sir', 'excited', 'new', 'parliament', 'building', 'tableau', 'atmanirbhar', 'bharat', 'abhiyan', 'parliament', 'building', 'bright', 'future', 'india', 'stored', 'thank', 'sir', 'make', 'india', 'foreign', 'policy', 'put', 'fasttrack', 'mode', 'swachh', 'bharat', 'abhiyan', 'clean', 'india', 'campaign', 'jan', 'dhan', 'yojana', 'economic', 'reforms', 'policy', 'implementation', 'confidencebuilding', 'measures', 'kashmir', 'ayushman', 'bharat', 'digital', 'india', 'atmanirbhar', 'bharat', 'vocal', 'local', 'mann', 'ki', 'baat', 'prime', 'minister', 'started', 'atmanirbhar', 'bharat', 'abhiyan', 'motivate', 'youth', 'including', 'womens', 'meanwhile', 'corrupted', 'officers', 'rejecting', 'forum', 'reason', 'need', 'reason', 'tackle', 'slowdown', 'economy', 'due', 'covid19', 'pandemic', '2nd', 'economic', 'relief', 'package', 'jk', 'announced', 'earlier', '20', 'lakh', 'crore', 'package', 'released', 'atmanirbhar', 'bharat', 'abhiyan', 'focusing', 'msmes', 'priority', 'sectors', 'vulnerable', 'segments', 'make', 'indiaswacch', 'bharat', 'abhiyan', 'jan', 'dhan', 'yojnaeconomic', 'reforms', 'policy', 'implementationforeign', 'policy', 'put', 'fasttrack', 'mode', 'remove', 'article', '370triple', 'talaqayushman', 'bharat', 'digital', 'indiaatmanirbhar', 'bharat', 'ayodhya', 'shri', 'ram', 'mandir5th', 'largest', 'economy', 'world', 'pm', 'graces', 'us', 'presence', 'karnataka', 'proud', 'highlight', 'efforts', 'towards', 'empowering', 'msme', 'sector', 'moreover', 'atmanirbhar', 'bharat', 'abhiyan', 'provided', 'muchneeded', 'boost', 'free', 'tailoring', 'training', 'given', 'girls', 'jewar', 'area', 'making', 'atmanirbhar', 'bharat', 'abhiyan', 'meaningful', 'free', 'saree', 'training', 'given', 'children', 'jewar', 'area', 'rural', 'poor', 'women', 'viable', 'atmanirbhar', 'bharat', 'abhiyan', 'get', 'selection', 'home', 'making', 'atmanirbhar', 'bharat', 'abhiyan', 'meaningful', 'employment', 'made', 'available', 'rural', 'poor', 'women', 'homes', 'free', 'tailoring', 'training', 'given', 'girls', 'jewar', 'area', 'making', 'atmanirbhar', 'bharat', 'abhiyan', 'meaningful', 'honored', 'pm', 'karnataka', 'efforts', 'towards', 'creating', 'selfreliant', 'india', 'atmanirbhar', 'bharat', 'abhiyan', 'spurred', 'innovation', 'entrepreneurship', 'despite', 'govts', 'initiatives', 'like', 'make', 'india', 'atmanirbhar', 'bharat', 'abhiyan', 'demand', 'core', 'sectors', 'like', 'steel', 'electricity', 'cement', 'coal', 'etc', 'remains', 'weak', 'falling', 'output', 'core', 'sectors', 'signal', 'decline', 'investment', 'employment', 'govt', 'revenue', 'inflation', '4', 'first', 'time', 'india', 'private', 'company', 'make', 'military', 'aircraft', 'gujarats', 'vadodara', 'contract', '21935crore', 'airbus', 'defence', 'space', '56', 'c295', 'planes', 'give', 'push', 'atmanirbhar', 'bharat', 'abhiyan', 'may', 'know', 'india', 'living', 'didnt', 'notice', 'following', 'ujwala', 'make', 'india', 'swachh', 'bharat', 'abhiyan', 'jan', 'dhan', 'yojana', 'economic', 'reforms', 'foreign', 'policy', 'article', '370', 'digital', 'india', 'atmanirbhar', 'bharat', 'ram', 'mandir', 'vande', 'bharat', 'many', 'government', 'initiatives', 'indian', 'government', 'introduced', 'several', 'initiatives', 'support', 'growth', 'msmes', 'including', 'atmanirbhar', 'bharat', 'abhiyan', 'aims', 'make', 'india', 'selfreliant', 'support', 'domestic', 'businesses', 'initiatives', 'like', 'atmanirbhar', 'bharat', 'abhiyan', 'skill', 'india', 'mission', 'national', 'mental', 'health', 'program', 'show', 'commitment', 'empowerment', 'shri', 'minister', 'delivers', 'statement', 'ecosoc', 'forum', 'atmanirbhar', 'bharat', 'abhiyan', 'government', 'india', 'goi', 'aimed', 'limiting', 'import', 'dependence', 'increasing', 'demand', 'indigenous', 'products', 'also', 'provides', 'better', 'growth', 'opportunities', 'company', 'tnls', 'application', 'designled', 'production', 'happened', 'make', 'india', 'atmanirbhar', 'bharat', 'abhiyan', 'pm', 'modi', 'inaugurates', 'rozgar', 'mela', 'says', 'approach', 'atmanirbhar', 'bharat', 'abhiyan', 'limited', 'youtubecomwatchvqtlfu9', 'pm', 'modi', 'inaugurates', 'rozgar', 'mela', 'says', 'approach', 'atmanirbhar', 'bharat', 'abhiyan', 'limited', 'youtubecomwatchvqtlfu9', 'banarasi', 'paan', 'langda', 'mango', 'kashi', 'make', 'gi', 'club', 'inspiration', 'pm', 'gi', 'goods', 'going', 'local', 'global', 'atmanirbhar', 'bharat', 'abhiyan', 'country', 'displaying', 'heritage', 'world', 'kudos', 'timesofindiaindiatimescomcityvaranasi', 'goi', 'launched', 'atmanirbhar', 'bharat', 'abhiyan', 'focus', 'empowering', 'msmes', 'promoting', 'selfreliance', 'union', 'budget', '202122', 'allocated', 'rs', '15700', 'crore', 'ministry', 'micro', 'small', 'medium', 'enterprises', '64', 'increase', 'previous', 'years', 'budget', 'pm', 'svanidhi', 'ministry', 'housing', 'urban', 'affairs', 'mohua', 'launched', 'pm', 'svanidhi', 'providing', 'affordable', 'loans', 'street', 'vendors', 'announced', 'part', 'economic', 'stimulusii', 'atmanirbhar', 'bharat', 'abhiyan', 'ministry', 'housing', 'urban', 'affairs', 'mohua', 'launched', 'pm', 'svanidhi', 'providing', 'affordable', 'loans', 'street', 'vendors', 'announced', 'part', 'economic', 'stimulusii', 'atmanirbhar', 'bharat', 'abhiyan', 'warm', 'welcome', 'prime', 'minister', 'shri', 'taking', 'significant', 'steps', 'towards', 'development', 'countrys', 'msme', 'sector', 'schemes', 'like', 'atmanirbhar', 'bharat', 'abhiyan', 'standup', 'india', 'government', 'launched', 'several', 'initiatives', 'address', 'challenges', 'including', 'make', 'india', 'campaign', 'digital', 'india', 'atmanirbhar', 'bharat', 'abhiyan', 'aim', 'boost', 'manufacturing', 'promote', 'digitalization', 'make', 'india', 'selfreliant', 'key', 'sectors', 'swachh', 'bharat', 'abhiyan', 'ayushman', 'bharat', 'ujjwala', 'yojana', 'pmkisan', 'atmanirbhar', 'bharat', 'make', 'india', 'digital', 'india', 'jan', 'dhan', 'yojana', 'gst', 'seva', 'aur', 'samarthan', 'modi', 'ki', 'pehchan', 'department', 'animal', 'husbandry', 'dairying', 'initiated', 'animal', 'husbandry', 'infrastructure', 'development', 'fund', 'scheme', 'outlay', 'rs15000', 'crore', 'atmanirbhar', 'bharat', 'abhiyan', 'stimulus', 'package', 'read', 'pibgovinpressreleasepa', 'madhya', 'pradesh', 'contributing', 'towards', 'atmanirbhar', 'bharat', 'abhiyan', 'promoting', 'use', 'khadhi', 'products', 'state', 'government', 'made', 'mandatory', 'employees', 'wear', 'khadhi', 'clothes', 'week', 'vaccination', 'drive', 'relief', 'schemes', 'atmanirbhar', 'bharat', 'abhiyan', 'assisted', 'msmes', 'social', 'sector', 'providing', 'employment', 'aatmanirbhar', 'bharat', 'rozgar', 'yojana', 'pm', 'garib', 'kalyan', 'rozgar', 'yojana', '34', 'swavalambi', 'bharat', 'abhiyan', 'initiated', 'year', 'ago', 'intent', 'realise', 'atmanirbhar', 'bharat', 'nudging', 'youth', 'employment', 'generators', 'entrepreneurship', 'rather', 'employment', 'seekers', 'took', 'part', '3', 'day', 'workshop', 'conducted', 'pusa', 'new', 'delhi', 'financing', 'facility', 'women', 'empowerment', 'atmanirbhar', 'bharat', 'abhiyan', 'block', 'calendar', '18th', 'feb', '2023', '1130', '1200', 'fempreneur', 'talks', 'show', 'watch', 'live', 'vyapaar', 'jagat', 'tv', 'subscribe', 'youtubecomvyapaarjagattv', 'dont', 'miss', 'atmanirbhar', 'bharat', 'abhiyan', 'atmanirbhar', 'bharat', 'mission', 'objectives', 'sarkariyojnaaorgatmanirbharbh', 'govt', 'continuously', 'giving', 'emphasis', 'innovation', 'entrepreneurship', 'today', 'youth', 'showing', 'power', 'innovation', 'world', 'country', 'started', 'reaping', 'benefits', 'success', 'made', 'india', 'campaign', 'atmanirbhar', 'bharat', 'abhiyan', '5', 'atmanirbhar', 'bharat', 'abhiyan', 'initiative', 'aims', 'promote', 'selfreliance', 'reduce', 'dependence', 'imports', 'includes', 'range', 'measures', 'support', 'businesses', 'including', 'startups', 'tax', 'incentives', 'access', 'funding', 'measures', 'promote', 'exports', 'natural', 'capital', 'corporation', 'canada', 'offering', 'patented', 'hydropyrolysis', 'technology', 'indian', 'communities', 'fully', 'funded', 'program', 'accomplishing', 'bharat', 'swachh', 'abhiyan', 'atmanirbhar', 'bharat', 'debt', 'free', 'program', 'natcapworld', 'india', 'path', 'reform', 'transform', 'perform', 'since', '2014', 'pm', 'said', 'atmanirbhar', 'bharat', 'abhiyan', 'imparted', 'greater', 'momentum', 'result', 'india', 'become', 'attractive', 'destination', 'investment', 'helnkdinga8eqy6', 'lnkdingrpc3gk', '1', 'make', 'india', '2swachh', 'bharat', 'abhiyan', '3', 'removing', 'article', '370', '4a', 'strong', 'india', 'feared', 'many', 'nations', '5atmanirbhar', 'bharat', '6give', 'orders', '2', 'surgical', 'strike', 'pakistan', 'ghar', 'mai', 'ghus', 'ke', 'maarenge', '7making', 'strong', 'relation', 'russiausaisraeletc', 'many', 'line', 'governments', 'atmanirbhar', 'abhiyan', 'namasthe', 'world', 'newly', 'formed', 'childrens', 'brand', 'based', 'hyderabad', 'announced', 'launch', 'promising', 'offer', 'holistic', 'degree', 'experience', 'kids', 'indianretailercomnewsnamasthe', 'r', 'balasubramaniam', 'strongly', 'believe', 'atmanirbhar', 'bharat', 'abhiyan', 'strengthened', 'economy', 'empowered', 'youth', 'indianexpresscomarticleopinio', 'atmanirbhar', 'bharat', 'abhiyan', 'india', 'path', 'reform', 'transform', 'perform', 'pm', 'modi', 'global', 'investors', 'livemintcomnewsindiaind', 'via', 'namo', 'app', 'madhya', 'pradesh', 'ideal', 'global', 'investment', 'destination', 'goyal', 'indicanewscom20230111mad', 'madhya', 'pradesh', 'ideal', 'global', 'investment', 'destination', 'goyal', 'indicanewscom20230111mad', 'latesteven', 'onceinacentury', 'crisis', 'took', 'path', 'reformsindia', 'path', 'reform', 'transform', 'perform', 'since', '2014atmanirbhar', 'bharat', 'abhiyan', 'imparted', 'greater', 'momentum', 'resultindia', 'become', 'attractive', 'destination', 'investment', 'pm', 'even', 'onceinacentury', 'crisis', 'took', 'path', 'reforms', 'india', 'path', 'reform', 'transform', 'perform', 'since', '2014', 'atmanirbhar', 'bharat', 'abhiyan', 'imparted', 'greater', 'momentum', 'result', 'india', 'become', 'attractive', 'destination', 'investment', 'pm', 'even', 'onceinacentury', 'crisis', 'took', 'path', 'reforms', 'india', 'path', 'reform', 'transform', 'perform', 'since', '2014', 'atmanirbhar', 'bharat', 'abhiyan', 'imparted', 'greater', 'momentum', 'result', 'india', 'become', 'attractive', 'destination', 'investment', 'pm', 'part', 'atmanirbhar', 'bharat', 'abhiyan', 'sunni', 'dam', 'project', 'provide', 'local', 'suppliers', 'msmes', 'entrepreneurs', 'new', 'opportunities', 'encourage', 'employment', 'socioeconomic', 'development', 'region', 'strategy', 'atmanirbhar', 'bharat', 'abhiyan', 'seems', 'give', 'strong', 'supplyside', 'push', 'boosting', 'availability', 'capital', 'easy', 'terms', 'supporting', 'agriculture', 'business', 'sectors', 'make', 'citizens', 'selfreliant', 'pillars', 'economydemand', 'infrastructure', 'inaugurates', 'firstever', 'twostorey', '3d', 'printed', 'house', 'dwelling', 'unit', 'ahmedabad', 'structure', 'also', 'stands', 'testament', 'commitment', 'indian', 'army', 'fostering', 'atmanirbhar', 'bharat', 'abhiyan', 'read', 'pibgovinpressreleasepa', 'indian', 'army', 'inaugurated', 'firstever', 'twostorey', '3d', 'printed', 'house', 'dwelling', 'unit', 'ahmedabad', 'structure', 'also', 'stands', 'testament', 'commitment', 'indian', 'army', 'fostering', 'atmanirbhar', 'bharat', 'abhiyan', 'inaugurates', 'firstever', 'twostorey', '3d', 'printed', 'house', 'dwelling', 'unit', 'ahmedabad', 'structure', 'also', 'stands', 'testament', 'commitment', 'indian', 'army', 'fostering', 'atmanirbhar', 'bharat', 'abhiyan', 'read', 'pibgovinpressreleasepa', 'avnl', 'proud', 'strong', 'contributor', 'towards', 'atmanirbhar', 'bharat', 'abhiyan', 'government', 'india', 'significant', 'achievement', 'mtpf', 'unit', 'avnl', 'towards', 'meeting', 'requirements', 'special', 'purpose', 'equipment', 'indigenous', 'efforts', '57pm', 'svanidhi', 'scheme', 'scheme', 'announced', 'part', 'economic', 'stimulusii', 'atmanirbhar', 'bharat', 'abhiyan', 'c', 'part', 'economic', 'stimulusii', 'atmanirbhar', 'bharat', 'abhiyan2020', 'fully', 'funded', 'ministry', 'housing', 'urbanavailable', 'street', 'vendors', 'urban', 'areas', 'sidbi', 'partner', 'extension', 'svanidhi', 'se', 'samriddhi', 'map', 'socioeconomic', 'profile', 'beneficiaries', 'completely', 'agreeso', 'support', 'uniform', 'civilcodeatmanirbhar', 'bharat', 'abhiyanyou', 'missingignoring', 'point', 'statedeven', 'coal', 'cheaper', 'oilcost', 'import', 'also', 'cheaperreserves', 'least', 'impacted', 'comparativelybtw', 'got', 'sollar', 'panels', 'yet', 'bjp', 'moving', 'ahead', 'resolution', 'atmanirbhar', 'bharat', 'abhiyan', 'bjp', 'moving', 'ahead', 'resolution', 'atmanirbhar', 'bharat', 'abhiyan', 'proud', 'feeling', 'see', 'bjp', 'moving', 'ahead', 'resolution', 'atmanirbhar', 'bharat', 'abhiyan', 'bjp', 'moving', 'ahead', 'resolution', 'atmanirbhar', 'bharat', 'abhiyan', 'congraulationsawasthi', 'jiunder', 'pms', 'vision', 'iffco', 'rd', 'shatters', '5', 'nanometer', 'particle', 'size', 'nanu', 'urea', 'current', '20', 'nanometer', 'size', 'made', 'india', 'atmanirbhar', 'bharat', 'abhiyan', 'iffco', 'india', 'globe', 'makeinindianational', 'logisticssemiconductor', 'policy', 'weaponsaircraft', 'defence', 'indegenisationabha', 'schemeatmanirbhar', 'bharat', 'schemeswach', 'bharat', 'abhiyandigital', 'indianational', 'supercomputing', 'mission', 'brought', 'mughals', 'india', '2022', 'start', 'reading', 'newspaper', 'atmanirbhar', 'bharat', 'abhiyan', 'brought', 'modiji', 'atmanirbhar', 'bharat', 'abhiyan', 'brought', 'modiji', 'atmanirbhar', 'bharat', 'abhiyan', 'brought', 'modiji', 'atmanirbhar', 'bharat', 'abhiyan', 'brought', 'modiji', 'atmanirbhar', 'bharat', 'abhiyan', 'brought', 'modiji', 'atmanirbhar', 'bharat', 'abhiyan', 'brought', 'modiji', 'atmanirbhar', 'bharat', 'abhiyan', 'brought', 'modiji']\n"
          ]
        }
      ],
      "source": [
        "sp1 = \"\".join(sp)\n",
        "l1=sp1.split(\" \")\n",
        "print(l1)"
      ]
    },
    {
      "cell_type": "markdown",
      "source": [
        "#Sentiment Analysis"
      ],
      "metadata": {
        "id": "oEL256RRFPXU"
      }
    },
    {
      "cell_type": "markdown",
      "source": [
        "Install textblob to find the polarity of given text"
      ],
      "metadata": {
        "id": "IXuXvvZeF7RS"
      }
    },
    {
      "cell_type": "code",
      "execution_count": 13,
      "metadata": {
        "colab": {
          "base_uri": "https://localhost:8080/"
        },
        "id": "BL5GRU-2QhVd",
        "outputId": "ac2175d3-1d9d-41b8-f55a-dd35895e6158"
      },
      "outputs": [
        {
          "output_type": "stream",
          "name": "stdout",
          "text": [
            "Looking in indexes: https://pypi.org/simple, https://us-python.pkg.dev/colab-wheels/public/simple/\n",
            "Requirement already satisfied: textblob in /usr/local/lib/python3.10/dist-packages (0.17.1)\n",
            "Requirement already satisfied: nltk>=3.1 in /usr/local/lib/python3.10/dist-packages (from textblob) (3.8.1)\n",
            "Requirement already satisfied: click in /usr/local/lib/python3.10/dist-packages (from nltk>=3.1->textblob) (8.1.3)\n",
            "Requirement already satisfied: joblib in /usr/local/lib/python3.10/dist-packages (from nltk>=3.1->textblob) (1.2.0)\n",
            "Requirement already satisfied: regex>=2021.8.3 in /usr/local/lib/python3.10/dist-packages (from nltk>=3.1->textblob) (2022.10.31)\n",
            "Requirement already satisfied: tqdm in /usr/local/lib/python3.10/dist-packages (from nltk>=3.1->textblob) (4.65.0)\n"
          ]
        }
      ],
      "source": [
        "pip install textblob"
      ]
    },
    {
      "cell_type": "code",
      "execution_count": 14,
      "metadata": {
        "colab": {
          "base_uri": "https://localhost:8080/"
        },
        "id": "v6dAe5RaRdiP",
        "outputId": "c3049721-7259-4d68-ed45-1cd884a60d38"
      },
      "outputs": [
        {
          "output_type": "stream",
          "name": "stdout",
          "text": [
            "[0.3666666666666667, 0.75, 0.2, 0.2, 0.25, 1.0, 0.4, 0.375, 0.13636363636363635, 0.7000000000000001, 0.3666666666666667, 0.2, 0.2, 0.8, 0.4, 0.5, 0.4, 0.5, 0.4, 0.4, 0.5, 0.25, 0.2, 0.5, 0.5, 0.2, 0.2, 0.6, 0.8, 0.375, 0.13636363636363635, 0.13636363636363635, 0.3, 0.4, 0.5, 0.8, 0.4333333333333333, 0.5, 0.4333333333333333, 0.5, 0.13636363636363635, 0.2, 0.4333333333333333, 0.9, 0.9, 0.5, 0.8, 0.5, 0.8, 0.5, 0.8, 0.13636363636363635, 0.4333333333333333, 0.43333333333333335, 0.25, 0.8, 0.4333333333333333, 0.375, 0.35714285714285715, 0.2, 0.2, 0.8]\n",
            "[0.0, 0.0, 0.0, 0.0, 0.0, 0.0, 0.0, 0.0, 0.0, 0.0, 0.0, 0.0, 0.0, 0.0, 0.0, 0.0, 0.0, 0.0, 0.0, 0.0, 0.0, 0.0, 0.0, 0.0, 0.0, 0.0, 0.0, 0.0, 0.0, 0.0, 0.0, 0.0, 0.0, 0.0, 0.0, 0.0, 0.0, 0.0, 0.0, 0.0, 0.0, 0.0, 0.0, 0.0, 0.0, 0.0, 0.0, 0.0, 0.0, 0.0, 0.0, 0.0, 0.0, 0.0, 0.0, 0.0, 0.0, 0.0, 0.0, 0.0, 0.0, 0.0, 0.0, 0.0, 0.0, 0.0, 0.0, 0.0, 0.0, 0.0, 0.0, 0.0, 0.0, 0.0, 0.0, 0.0, 0.0, 0.0, 0.0, 0.0, 0.0, 0.0, 0.0, 0.0, 0.0, 0.0, 0.0, 0.0, 0.0, 0.0, 0.0, 0.0, 0.0, 0.0, 0.0, 0.0, 0.0, 0.0, 0.0, 0.0, 0.0, 0.0, 0.0, 0.0, 0.0, 0.0, 0.0, 0.0, 0.0, 0.0, 0.0, 0.0, 0.0, 0.0, 0.0, 0.0, 0.0, 0.0, 0.0, 0.0, 0.0, 0.0, 0.0, 0.0, 0.0, 0.0, 0.0, 0.0, 0.0, 0.0, 0.0, 0.0, 0.0, 0.0, 0.0, 0.0, 0.0, 0.0, 0.0, 0.0, 0.0, 0.0, 0.0, 0.0, 0.0, 0.0, 0.0, 0.0, 0.0, 0.0, 0.0, 0.0, 0.0, 0.0, 0.0, 0.0, 0.0, 0.0, 0.0, 0.0, 0.0, 0.0, 0.0, 0.0, 0.0, 0.0, 0.0, 0.0, 0.0, 0.0, 0.0, 0.0, 0.0, 0.0, 0.0, 0.0, 0.0, 0.0, 0.0, 0.0, 0.0, 0.0, 0.0, 0.0, 0.0, 0.0, 0.0, 0.0, 0.0, 0.0, 0.0, 0.0, 0.0, 0.0, 0.0, 0.0, 0.0, 0.0, 0.0, 0.0, 0.0, 0.0, 0.0, 0.0, 0.0, 0.0, 0.0, 0.0, 0.0, 0.0, 0.0, 0.0, 0.0, 0.0, 0.0, 0.0, 0.0, 0.0, 0.0, 0.0, 0.0, 0.0, 0.0, 0.0, 0.0, 0.0, 0.0, 0.0, 0.0, 0.0, 0.0, 0.0, 0.0, 0.0, 0.0, 0.0, 0.0, 0.0, 0.0, 0.0, 0.0, 0.0, 0.0, 0.0, 0.0, 0.0, 0.0, 0.0, 0.0, 0.0, 0.0, 0.0, 0.0, 0.0, 0.0, -0.07142857142857142, 0.0, 0.0, 0.0, 0.0, 0.0, 0.0, 0.0, 0.0, 0.0, 0.0, 0.0, 0.0, 0.0, 0.0, 0.0, 0.0, 0.0, 0.0, 0.0, 0.0, 0.0, 0.0, 0.0, 0.0, 0.0, 0.0, 0.0, 0.0, 0.0, 0.0, 0.0, 0.0, 0.0, 0.0, 0.0, 0.0, 0.0, 0.0, 0.0, 0.0, 0.0, 0.0, 0.0, 0.0, 0.0, 0.0, 0.0, 0.0, 0.0, 0.0, 0.0, 0.0, 0.0, 0.0, 0.0, 0.0, 0.0, 0.0, 0.0, 0.0, 0.0, 0.0, 0.0, 0.0, 0.0, 0.0, 0.0, 0.0, 0.0, 0.0, 0.0, 0.0, 0.0, 0.0, 0.0, 0.0, 0.0, 0.0, 0.0, 0.0, 0.0, 0.0, 0.0, 0.0, 0.0, 0.0, 0.0, 0.0, 0.0, 0.0, 0.0, 0.0, 0.0, 0.0, 0.0, 0.0, 0.0, 0.0, 0.0, 0.0, 0.0, 0.0, 0.0, 0.0, 0.0, 0.0, 0.0, 0.0, 0.0, 0.0, 0.0, 0.0, 0.0, 0.0, 0.0, 0.0, 0.0, 0.0, 0.0, 0.0, 0.0, 0.0, 0.0, 0.0, 0.0, 0.0, 0.0, 0.0, 0.0, 0.0, 0.0, 0.0, 0.0, 0.0, 0.0, 0.0, 0.0, 0.0, 0.0, 0.0, 0.0, 0.0, 0.0, 0.0, 0.0, 0.0, 0.0, 0.0, 0.0, 0.0, 0.0, 0.0, 0.0, 0.0, 0.0, 0.0, 0.0, 0.0, 0.0, 0.0, 0.0, 0.0, 0.0, 0.0, 0.0, 0.0, 0.0, 0.0, 0.0, 0.0, 0.0, 0.0, 0.0, 0.0, 0.0, 0.0, 0.0, 0.0, 0.0, 0.0, 0.0, 0.0, 0.0, 0.0, 0.0, 0.0, 0.0, 0.0, 0.0, 0.0, 0.0, 0.0, 0.0, 0.0, 0.0, 0.0, 0.0, 0.0, 0.0, 0.0, 0.0, 0.0, 0.0, 0.0, 0.0, 0.0, 0.0, 0.0, 0.0, 0.0, 0.0, 0.0, 0.0, 0.0, 0.0, 0.0, 0.0, 0.0, 0.0, 0.0, 0.0, 0.0, 0.0, 0.0, 0.0, 0.0, 0.0, 0.0, 0.0, 0.0, 0.0, 0.0, 0.0, 0.0, 0.0, 0.0, 0.0, 0.0, 0.0, 0.0, 0.0, 0.0, 0.0, 0.0, 0.0, 0.0, 0.0, 0.0, 0.0, 0.0, 0.0, 0.0, 0.0, 0.0, 0.0, 0.0, 0.0, 0.0, 0.0, 0.0, 0.0, 0.0, 0.0, 0.0, 0.0, 0.0, 0.0, 0.0, 0.0, 0.0, 0.0, 0.0, 0.0, 0.0, 0.0, 0.0, 0.0, 0.0, 0.0, 0.0, 0.0, 0.0, 0.0, 0.0, 0.0, 0.0, 0.0, 0.0, 0.0, 0.0, 0.0, 0.0, 0.0, 0.0, 0.0, 0.0, 0.0, 0.0, 0.0, 0.0, 0.0, 0.0, 0.0, 0.0, 0.0, 0.0, 0.0, 0.0, 0.0, 0.0, 0.0, 0.0, 0.0, 0.0, 0.0, 0.0, 0.0, 0.0, 0.0, 0.0, 0.0, 0.0, 0.0, 0.0, 0.0, 0.0, 0.0, 0.0, 0.0, 0.0, 0.0, 0.0, 0.0, 0.0, 0.0, 0.0, 0.0, 0.0, 0.0, 0.0, 0.0, 0.0, 0.0, 0.0, 0.0, 0.0, 0.0, 0.0, 0.0, 0.0, 0.0, 0.0, 0.0, 0.0, 0.0, 0.0, 0.0, 0.0, 0.0, 0.0, 0.0, 0.0, 0.0, 0.0, 0.0, 0.0, 0.0, 0.0, 0.0, 0.0, 0.0, 0.0, 0.0, 0.0, 0.0, 0.0, 0.0, 0.0, 0.0, 0.0, 0.0, 0.0, 0.0, 0.0, 0.0, 0.0, 0.0, 0.0, 0.0, 0.0, 0.0, 0.0, 0.0, 0.0, 0.0, 0.0, 0.0, 0.0, 0.0, 0.0, 0.0, 0.0, 0.0, 0.0, 0.0, 0.0, 0.0, 0.0, 0.0, 0.0, 0.0, 0.0, 0.0, 0.0, 0.0, 0.0, 0.0, 0.0, 0.0, 0.0, 0.0, 0.0, 0.0, 0.0, 0.0, 0.0, 0.0, 0.0, -0.07142857142857142, 0.0, 0.0, 0.0, 0.0, 0.0, 0.0, 0.0, 0.0, 0.0, 0.0, 0.0, -0.07142857142857142, 0.0, 0.0, 0.0, 0.0, 0.0, 0.0, 0.0, 0.0, 0.0, 0.0, 0.0, 0.0, 0.0, 0.0, 0.0, 0.0, 0.0, 0.0, 0.0, 0.0, 0.0, 0.0, 0.0, 0.0, 0.0, 0.0, 0.0, 0.0, 0.0, 0.0, 0.0, 0.0, 0.0, 0.0, 0.0, 0.0, 0.0, 0.0, 0.0, 0.0, 0.0, 0.0, 0.0, 0.0, 0.0, 0.0, 0.0, 0.0, 0.0, 0.0, 0.0, 0.0, 0.0, 0.0, 0.0, 0.0, 0.0, 0.0, 0.0, 0.0, 0.0, 0.0, 0.0, 0.0, 0.0, 0.0, 0.0, 0.0, 0.0, 0.0, 0.0, 0.0, 0.0, 0.0, 0.0, 0.0, 0.0, 0.0, 0.0, 0.0, 0.0, 0.0, 0.0, 0.0, 0.0, 0.0, 0.0, 0.0, 0.0, 0.0, 0.0, 0.0, 0.0, 0.0, 0.0, 0.0, 0.0, 0.0, 0.0, 0.0, 0.0, 0.0, 0.0, 0.0, 0.0, 0.0, 0.0, 0.0, 0.0, 0.0, 0.0, 0.0, 0.0, 0.0, 0.0, 0.0, 0.0, 0.0, 0.0, 0.0, 0.0, 0.0, 0.0, 0.0, 0.0, 0.0, 0.0, 0.0, 0.0, 0.0, 0.0, 0.0, 0.0, 0.0, 0.0, 0.0, 0.0, 0.0, 0.0, 0.0, 0.0, 0.0, 0.0, 0.0, 0.0, 0.0, 0.0, 0.0, 0.0, 0.0, 0.0, 0.0, 0.0, 0.0, 0.0, 0.0, 0.0, 0.0, 0.0, 0.0, 0.0, 0.0, 0.0, 0.0, 0.0, 0.0, 0.0, 0.0, 0.0, 0.0, 0.0, 0.0, 0.0, 0.0, 0.0, 0.0, 0.0, 0.0, 0.0, 0.0, 0.0, 0.0, 0.0, 0.0, 0.0, 0.0, 0.0, 0.0, 0.0, 0.0, 0.0, 0.0, 0.0, 0.0, 0.0, 0.0, 0.0, 0.0, 0.0, 0.0, 0.0, 0.0, 0.0, 0.0, 0.0, 0.0, 0.03333333333333333, 0.0, 0.0, 0.0, 0.0, 0.0, 0.0, 0.0, 0.0, 0.0, 0.0, 0.0, 0.0, 0.0, 0.0, 0.0, 0.0, 0.0, 0.0, 0.0, 0.0, 0.0, 0.0, 0.0, 0.0, 0.0, 0.0, 0.0, 0.0, 0.0, 0.0, 0.0, 0.0, 0.0, 0.0, 0.0, 0.0, 0.0, 0.0, 0.0, 0.0, 0.0, 0.0, 0.0, 0.0, 0.0, 0.0, 0.0, 0.0, 0.0, 0.0, 0.0, 0.0, 0.0, 0.0, 0.0, 0.0, 0.0, 0.0, 0.0, 0.0, 0.0, 0.0, 0.0, 0.0, 0.0, 0.0, 0.0, 0.0, 0.0, 0.0, 0.0, 0.0, 0.0, 0.0, 0.0, 0.0, 0.0, 0.0, 0.0, 0.0, 0.0, 0.0, 0.0, 0.0, 0.0, 0.0, 0.0, 0.0, 0.0, 0.0, 0.0, 0.0, 0.0, 0.0, 0.0, 0.0, 0.0, 0.0, 0.0, 0.0, 0.0, 0.0, 0.0, 0.0, 0.0, 0.0, 0.0, 0.0, 0.0, 0.0, 0.0, 0.0, 0.0, 0.0, 0.0, 0.0, 0.0, 0.0, 0.0, 0.0, 0.0, 0.0, 0.0, 0.0, 0.0, 0.0, 0.0, 0.0, 0.0, 0.0, 0.0, 0.0, 0.0, 0.0, 0.0, 0.0, 0.0, 0.0, 0.0, 0.0, 0.0, 0.0, 0.0, 0.0, 0.0, 0.0, 0.0, 0.0, 0.0, 0.0, 0.0, 0.0, 0.0, 0.0, 0.0, 0.0, 0.0, 0.0, 0.0, 0.0, 0.0, 0.0, 0.0, 0.0, 0.0, 0.0, 0.0, 0.0, 0.0, 0.0, 0.0, 0.0, 0.0, 0.0, 0.0, 0.0, 0.0, 0.0, 0.0, 0.0, 0.0, 0.0, 0.0, 0.0, 0.0, 0.0, 0.0, 0.0, 0.0, 0.0, 0.0, 0.0, 0.0, 0.0, 0.0, 0.0, 0.0, 0.0, 0.0, 0.0, 0.0, 0.0, 0.0, 0.0, 0.0, 0.0, 0.0, 0.0, 0.0, 0.0, 0.0, 0.0, 0.0, 0.0, 0.0, 0.0, 0.0, 0.0, 0.0, 0.0, 0.0, 0.0, 0.0, 0.0, 0.0, 0.0, 0.0, 0.0, 0.0, 0.0, 0.0, 0.0, 0.0, 0.0, 0.0, 0.0, 0.0, 0.0, 0.0, 0.0, 0.0, 0.0, 0.0, 0.0, 0.0, 0.0, 0.0, 0.0, 0.0, 0.0, 0.0, 0.0, 0.0, 0.0, 0.0, 0.0, 0.0, 0.0, 0.0, 0.0, 0.0, 0.0, 0.0, 0.0, 0.0, 0.0, 0.0, 0.0, 0.0, 0.0, 0.0, 0.0, 0.0, 0.0, 0.0, 0.0, 0.0, 0.0, 0.0, 0.0, 0.0, 0.0, 0.0, 0.0, 0.0, 0.0, 0.0, 0.0, 0.0, 0.0, 0.0, 0.0, 0.0, 0.0, 0.0, 0.0, 0.0, 0.0, 0.0, 0.0, 0.0, 0.0, 0.0, 0.0, 0.0, 0.0, 0.0, 0.0, 0.0, 0.0, 0.0, 0.0, 0.0, 0.0, 0.0, 0.0, 0.0, 0.0, 0.0, 0.0, 0.0, 0.0, 0.0, 0.0, 0.0, 0.0, 0.0, 0.0, 0.0, 0.0, 0.0, 0.0, 0.0, 0.0, 0.0, 0.0, 0.0, 0.0, 0.0, 0.0, 0.0, 0.0, 0.0, 0.0, 0.0, 0.0, 0.0, 0.0, 0.0, 0.0, 0.0, 0.0, 0.0, 0.0, 0.0, 0.0, 0.0, 0.0, 0.0, 0.0, 0.0, 0.0, 0.0, 0.0, 0.0, 0.0, 0.0, 0.0, 0.0, 0.0, 0.0, 0.0, 0.0, 0.0, 0.0, 0.0, 0.0, 0.0, 0.0, 0.0, 0.0, 0.0, 0.0, 0.0, 0.0, 0.0, 0.0, 0.0, 0.0, 0.0, 0.0, 0.0, 0.0, 0.0, 0.0, 0.0, 0.0, 0.0, 0.0, 0.0, 0.0, 0.0, 0.0, 0.0, 0.0, 0.0, 0.0, 0.0, 0.0, 0.0, 0.0, 0.0, 0.0, 0.0, 0.0, 0.0, 0.0, 0.0, 0.0, 0.0, 0.0, 0.0, 0.0, 0.0, 0.0, 0.0, 0.0, 0.0, 0.0, 0.0, 0.0, 0.0, 0.0, 0.0, 0.0, 0.0, 0.0, 0.0, 0.0, 0.0, 0.0, 0.0, 0.0, 0.0, 0.0, 0.0, 0.0, 0.0, 0.0, 0.0, 0.0, 0.0, 0.0, 0.0, 0.0, 0.0, 0.0, 0.0, 0.0, 0.0, 0.0, 0.0, 0.0, 0.0, 0.0, 0.0, 0.0, 0.0, 0.0, 0.0, 0.0, 0.0, 0.0, 0.0, 0.0, 0.0, 0.0, 0.0, 0.0, 0.0, 0.0, 0.0, 0.0, 0.0, 0.0, 0.0, 0.0, 0.0, 0.0, 0.0, 0.0, 0.0, 0.0, 0.0, 0.0, 0.0, 0.0, 0.0, 0.0, 0.0, 0.0, 0.0, 0.0, 0.0, 0.0, 0.0, 0.0, 0.0, 0.0, 0.0, 0.0, 0.0, 0.0, 0.0, 0.0, 0.0, 0.0, 0.0, 0.0, 0.0, 0.0, 0.0, 0.0, 0.0, 0.0, 0.0, 0.0, 0.0, 0.0, 0.0, 0.0, 0.0, 0.0, 0.0, 0.0, 0.0, 0.0, 0.0, 0.0, 0.0, 0.0, 0.0, 0.0, 0.0, 0.0, 0.0, 0.0, 0.0, 0.0, 0.0, 0.0, 0.0, 0.0, 0.0, 0.0, 0.0, 0.0, 0.0, 0.0, 0.0, 0.0, 0.0, 0.0, 0.0, 0.0, 0.0, 0.0, 0.0, 0.0, 0.0, 0.0, 0.0, 0.0, 0.0, 0.0, 0.0, 0.0, 0.0, 0.0, 0.0, 0.0, 0.0, 0.0, 0.0, 0.0, 0.0, 0.0, 0.0, 0.0, 0.0, 0.0, 0.0, 0.0, 0.0, 0.0, 0.0, 0.0, 0.0, 0.0, 0.0, 0.0, 0.0, 0.0, 0.0, 0.0, 0.0, 0.0, 0.0, 0.0, 0.0, 0.0]\n",
            "[-0.5, -0.125, -0.125, -0.5, -0.4, -0.4, -0.375, -0.1, -0.125, -0.1, -0.25, -0.16666666666666666, -0.3]\n",
            "62\n",
            "1515\n",
            "13\n"
          ]
        }
      ],
      "source": [
        "from textblob import TextBlob\n",
        "pos=[]\n",
        "neut=[]\n",
        "neg=[]\n",
        "posi=[]\n",
        "negi=[]\n",
        "neutr=[]\n",
        "for i in l1:\n",
        "  res = TextBlob(i).sentiment.polarity\n",
        "  if(res > 0.10):\n",
        "    pos.append(res)\n",
        "    posi.append(i)\n",
        "  elif(res>-0.10 and res<0.10):\n",
        "    neut.append(res)\n",
        "    neutr.append(i)\n",
        "  elif(res<0.10):\n",
        "    neg.append(res)\n",
        "    negi.append(i)\n",
        "print(pos)\n",
        "print(neut)\n",
        "print(neg)\n",
        "print(len(pos))\n",
        "print(len(neut))\n",
        "print(len(neg))"
      ]
    },
    {
      "cell_type": "code",
      "execution_count": 15,
      "metadata": {
        "colab": {
          "base_uri": "https://localhost:8080/"
        },
        "id": "rekIBOxEhmH5",
        "outputId": "1f335b02-c235-4c1c-d6eb-4b809773175d"
      },
      "outputs": [
        {
          "output_type": "stream",
          "name": "stdout",
          "text": [
            "0.4467305543918447\n",
            "-0.26666666666666666\n",
            "-0.00011944051548011943\n"
          ]
        }
      ],
      "source": [
        "from statistics import mean\n",
        "positive = mean(pos)\n",
        "print(positive)\n",
        "negative = mean(neg)\n",
        "print(negative)\n",
        "neutral = mean(neut)\n",
        "print(neutral)"
      ]
    },
    {
      "cell_type": "code",
      "execution_count": 16,
      "metadata": {
        "colab": {
          "base_uri": "https://localhost:8080/",
          "height": 452
        },
        "id": "mHaN5u0phf4E",
        "outputId": "d31ef01c-83f6-41e4-8393-d9a79dad6640"
      },
      "outputs": [
        {
          "output_type": "display_data",
          "data": {
            "text/plain": [
              "<Figure size 640x480 with 1 Axes>"
            ],
            "image/png": "[encoded data removed]"
          },
          "metadata": {}
        }
      ],
      "source": [
        "import matplotlib.pyplot as plt\n",
        "plt.title('Sentiment Analysis')\n",
        "plt.plot(pos)\n",
        "plt.plot(neg)\n",
        "plt.plot(neut)\n",
        "plt.show()\n"
      ]
    },
    {
      "cell_type": "markdown",
      "source": [
        "**The total of positive polarity is higher than negative and neutral, so we can say that most of the opinions are positive about Atmanirbhar Bharat Scheme.**"
      ],
      "metadata": {
        "id": "SOUREfQuOlzO"
      }
    },
    {
      "cell_type": "markdown",
      "source": [
        "#Topic Modelling"
      ],
      "metadata": {
        "id": "IEWheaXMGOle"
      }
    },
    {
      "cell_type": "markdown",
      "source": [
        "install spacy library to summarize the given text"
      ],
      "metadata": {
        "id": "fYSvRttlGWuj"
      }
    },
    {
      "cell_type": "code",
      "source": [
        "pip install spacy"
      ],
      "metadata": {
        "colab": {
          "base_uri": "https://localhost:8080/"
        },
        "id": "KgIyOVhh1AA6",
        "outputId": "01b96adf-9efb-4dca-95d2-0ca1bffbade3"
      },
      "execution_count": null,
      "outputs": [
        {
          "output_type": "stream",
          "name": "stdout",
          "text": [
            "Looking in indexes: https://pypi.org/simple, https://us-python.pkg.dev/colab-wheels/public/simple/\n",
            "Requirement already satisfied: spacy in /usr/local/lib/python3.8/dist-packages (3.4.3)\n",
            "Requirement already satisfied: pydantic!=1.8,!=1.8.1,<1.11.0,>=1.7.4 in /usr/local/lib/python3.8/dist-packages (from spacy) (1.10.2)\n",
            "Requirement already satisfied: typer<0.8.0,>=0.3.0 in /usr/local/lib/python3.8/dist-packages (from spacy) (0.7.0)\n",
            "Requirement already satisfied: langcodes<4.0.0,>=3.2.0 in /usr/local/lib/python3.8/dist-packages (from spacy) (3.3.0)\n",
            "Requirement already satisfied: catalogue<2.1.0,>=2.0.6 in /usr/local/lib/python3.8/dist-packages (from spacy) (2.0.8)\n",
            "Requirement already satisfied: setuptools in /usr/local/lib/python3.8/dist-packages (from spacy) (57.4.0)\n",
            "Requirement already satisfied: packaging>=20.0 in /usr/local/lib/python3.8/dist-packages (from spacy) (21.3)\n",
            "Requirement already satisfied: srsly<3.0.0,>=2.4.3 in /usr/local/lib/python3.8/dist-packages (from spacy) (2.4.5)\n",
            "Requirement already satisfied: preshed<3.1.0,>=3.0.2 in /usr/local/lib/python3.8/dist-packages (from spacy) (3.0.8)\n",
            "Requirement already satisfied: spacy-legacy<3.1.0,>=3.0.10 in /usr/local/lib/python3.8/dist-packages (from spacy) (3.0.10)\n",
            "Requirement already satisfied: cymem<2.1.0,>=2.0.2 in /usr/local/lib/python3.8/dist-packages (from spacy) (2.0.7)\n",
            "Requirement already satisfied: jinja2 in /usr/local/lib/python3.8/dist-packages (from spacy) (2.11.3)\n",
            "Requirement already satisfied: pathy>=0.3.5 in /usr/local/lib/python3.8/dist-packages (from spacy) (0.10.0)\n",
            "Requirement already satisfied: thinc<8.2.0,>=8.1.0 in /usr/local/lib/python3.8/dist-packages (from spacy) (8.1.5)\n",
            "Requirement already satisfied: wasabi<1.1.0,>=0.9.1 in /usr/local/lib/python3.8/dist-packages (from spacy) (0.10.1)\n",
            "Requirement already satisfied: murmurhash<1.1.0,>=0.28.0 in /usr/local/lib/python3.8/dist-packages (from spacy) (1.0.9)\n",
            "Requirement already satisfied: spacy-loggers<2.0.0,>=1.0.0 in /usr/local/lib/python3.8/dist-packages (from spacy) (1.0.3)\n",
            "Requirement already satisfied: tqdm<5.0.0,>=4.38.0 in /usr/local/lib/python3.8/dist-packages (from spacy) (4.64.1)\n",
            "Requirement already satisfied: numpy>=1.15.0 in /usr/local/lib/python3.8/dist-packages (from spacy) (1.21.6)\n",
            "Requirement already satisfied: requests<3.0.0,>=2.13.0 in /usr/local/lib/python3.8/dist-packages (from spacy) (2.23.0)\n",
            "Requirement already satisfied: pyparsing!=3.0.5,>=2.0.2 in /usr/local/lib/python3.8/dist-packages (from packaging>=20.0->spacy) (3.0.9)\n",
            "Requirement already satisfied: smart-open<6.0.0,>=5.2.1 in /usr/local/lib/python3.8/dist-packages (from pathy>=0.3.5->spacy) (5.2.1)\n",
            "Requirement already satisfied: typing-extensions>=4.1.0 in /usr/local/lib/python3.8/dist-packages (from pydantic!=1.8,!=1.8.1,<1.11.0,>=1.7.4->spacy) (4.4.0)\n",
            "Requirement already satisfied: idna<3,>=2.5 in /usr/local/lib/python3.8/dist-packages (from requests<3.0.0,>=2.13.0->spacy) (2.10)\n",
            "Requirement already satisfied: chardet<4,>=3.0.2 in /usr/local/lib/python3.8/dist-packages (from requests<3.0.0,>=2.13.0->spacy) (3.0.4)\n",
            "Requirement already satisfied: urllib3!=1.25.0,!=1.25.1,<1.26,>=1.21.1 in /usr/local/lib/python3.8/dist-packages (from requests<3.0.0,>=2.13.0->spacy) (1.24.3)\n",
            "Requirement already satisfied: certifi>=2017.4.17 in /usr/local/lib/python3.8/dist-packages (from requests<3.0.0,>=2.13.0->spacy) (2022.9.24)\n",
            "Requirement already satisfied: confection<1.0.0,>=0.0.1 in /usr/local/lib/python3.8/dist-packages (from thinc<8.2.0,>=8.1.0->spacy) (0.0.3)\n",
            "Requirement already satisfied: blis<0.8.0,>=0.7.8 in /usr/local/lib/python3.8/dist-packages (from thinc<8.2.0,>=8.1.0->spacy) (0.7.9)\n",
            "Requirement already satisfied: click<9.0.0,>=7.1.1 in /usr/local/lib/python3.8/dist-packages (from typer<0.8.0,>=0.3.0->spacy) (7.1.2)\n",
            "Requirement already satisfied: MarkupSafe>=0.23 in /usr/local/lib/python3.8/dist-packages (from jinja2->spacy) (2.0.1)\n"
          ]
        }
      ]
    },
    {
      "cell_type": "code",
      "source": [
        "import spacy\n",
        "from spacy.lang.en.stop_words import STOP_WORDS\n",
        "from string import punctuation\n",
        "punctuation = punctuation + '\\n'\n",
        "from heapq import nlargest\n",
        "stopwords = list(STOP_WORDS)\n",
        "nlp = spacy.load('en_core_web_sm')\n",
        "def summ(text):\n",
        "  doc = nlp(text)\n",
        "  tokens = [token.text for token in doc]\n",
        "  word_frequencies = {}\n",
        "  for word in doc:\n",
        "    if word.text.lower() not in stopwords:\n",
        "        if word.text.lower() not in punctuation:\n",
        "            if word.text not in word_frequencies.keys():\n",
        "                word_frequencies[word.text] = 1\n",
        "            else:\n",
        "                word_frequencies[word.text] += 1\n",
        "  max_frequency = max(word_frequencies.values())\n",
        "  for word in word_frequencies.keys():\n",
        "    word_frequencies[word] = word_frequencies[word]/max_frequency\n",
        "  sentence_tokens = [sent for sent in doc.sents]\n",
        "  sentence_scores = {}\n",
        "  for sent in sentence_tokens:\n",
        "    for word in sent:\n",
        "        if word.text.lower() in word_frequencies.keys():\n",
        "            if sent not in sentence_scores.keys():\n",
        "                sentence_scores[sent] = word_frequencies[word.text.lower()]\n",
        "            else:\n",
        "                sentence_scores[sent] += word_frequencies[word.text.lower()]\n",
        "  select_length = int(len(sentence_tokens)*0.1)\n",
        "  summary = nlargest(select_length, sentence_scores, key = sentence_scores.get)\n",
        "  final_summary = [word.text for word in summary]\n",
        "  summary = ' '.join(final_summary)\n",
        "  print(summary)\n",
        "p1=\" \".join(posi)\n",
        "p2=\" \".join(negi)\n",
        "p3=\" \".join(neutr)\n",
        "print(summ(p1))\n",
        "print(summ(p2))\n",
        "print(summ(p3))"
      ],
      "metadata": {
        "id": "3yxg21RzA1yo"
      },
      "execution_count": null,
      "outputs": []
    },
    {
      "cell_type": "markdown",
      "source": [
        "proud live live notably important important celebrated celebrated new economic happy huge great happy many huge many great effectively much good new new new excellent excellent success memorable new new strong huge important top innovative in genious newinnovative in genious new better better better advance dadvanced good becoming proud special impressive success impressive success becoming best significant first newly firstfirstfirst advance dpotentki n d e con omic economich ighlywor  thnewne wablewholenewho nestlyabl eecon omicnewimportant new new new newunique important economic unique highly advanced good newnew confident unique highly newgreat new economicavailableeconomicavailableeconomicavailablehealthygreatrealsignificantlyeconomic firstlove  famous brilliant first outstanding first successappreciatedsuccessnewnewhahahahahahawinningworthymanybestinnovativemanyimportantwholewholenewwholesmartmostlyambitioussmartimportantimportantmanyinnovativecreativegrandsuccesskindrightkindlyavailablesurenewlikedcapableimportantbettermanymanymanymanymanywelcomestrongwelcomewelcomenewimportanteconomicwelcomeeconomiceconomiceconomiceconomiclivegoodeconomicgoodgoodeconomicgoodgoodeconomicgoodeconomicgoodeconomicgoodeconomicgoodeconomictoptopproudnewreadyworthnewfirstlovesuccessbestsuccessbelovedpowerfuladvancedfirstadvancedadvancedadvancedadvancedadvancedinterestedsuccesssmartfirstfirstcleanspecialimportantnewclearclear\n",
        "agreesosupportuniformcivilcodeatmanirbharbharatabhiyanyoumissingignoringpointstatedevencoalcheaperoilcostimportalsocheaperreservesimpactedcomparativelybtwgotsollarpanelsyetbjpmovingaheadresolutionatmanirbharbharatabhiyanbjpmovingaheadresolutionatmanirbharbharatabhiyanfeelingseebjpmovingaheadresolutionatmanirbharbharatabhiyanbjpmovingaheadresolutionatmanirbharbharatabhiyancongraulationsawasthijiunderpmsvisioniffcordshatters5nanometerparticlesizenanuureacurrent20nanometersizemadeindiaatmanirbharbharatabhiyaniffcoindiaglobemakeinindianationallogisticssemiconductorpolicyweaponsaircraftdefenceindegenisationabhaschemeatmanirbharbharatschemeswachbharatabhiyandigitalindianationalsupercomputingmissionbroughtmughalsindia2022startreadingnewspapertwittercomanuragkukreti7atmanirbharbharatabhiyanbroughtmodijiatmanirbharbharatabhiyanbroughtmodijiatmanirbharbharatabhiyanbroughtmodijiatmanirbharbharatabhiyanbroughtmodijiatmanirbharbharatabhiyanbroughtmodijiatmanirbharbharatabhiyanbroughtmodijiatmanirbharbharatabhiyanbroughtmodijiatmanirbharbharatabhiyanbroughtmodijicowbasedeconomysustainablewaymustcontributemrramkumarpalnationalexecutivememberatmanirbharbharatabhiyanyoutube2vpdssm32w4cowbasedeconomysustainablewaymustcontributemrramkumarpalnationalexecutivememberatmanirbharbharcreationpridehistoryculturetraditions7abolition370nationalintegrationjkgrowth8swrbharbharatabhiyaninventedmodijiatmanirbharbharatabhiyaninventedmodijiatmanirbharbharatabhiyaninventedmodijiatmanirbharbharatabhiyaninventedmodijiatmanirbharbharatabhiyaninventedmodijiatmanirbharbharatabhiyanbroughtmodijiatmanirbharbharatabhiyanbroughtmodijiatmanirbharbharatabhiyanbroughtmodijiconvenedmeetingstatelevelcommitteememberstouristlodgedimapurtodayorganizeswachhbharatatmanirbharbharatabhiyanthroughoutstate17thsept2ndoct2022messageshridharmendrapradhanjimentionedunnatbharatabhiyanportraysstrengthpotentialcollegeuniversityprovideroadmapstrengthschannelizedmovecountrytowardsmakingatmanirbharbharatwhatspointwatchingwebsitegoogleearthshowseverythingevenminutedetailsdefenceinstallationscountryscommandalreadysoldbiggieswestgovtletsseeatmanirbharbharatabhiyangoesinsvikrantsampleatmanirbharbharatabhiyanachievementindiasurroundingareasaugust292022supertechtwintowersatmanirbharbharatabhiyanarthgangagovtjobdekhocomaugust29202229august2022supertechtwintowersatmanirbharbharatabhiyanearthgangauttarpradeshlivecom29august202229august2022supertechtwintowersatmanirbharbharatabhiyanarthgangabihardelegationcom29august2022pavewaycollaborationpresentwellfutureareasoperationtowardsatmanirbharbharatabhiyangovernmentindia22letsvocallocalsupportapplaudhonbleprimeministeratmanirbharbharatabhiyanpackagestrengthenindianeconomyultimateinfosftcomunnatbharatabhiyanconstantlyworkingtowardsachievementobjectiveatmanirbharbharatcontributiontowardsgoalcapacityrciorganizedtech4sevaregionalauspiciousoccasionindependencedayannounceresultsbenefitsatmanirbharbharatabhiyanschemealsodataincreasehouseholdtoiletcoverageuseincludinghealthcareenvironmentcleanlinessreducedpropertyreducedairpollutionatmanirbharbharatabhiyanvocallocal14batalionkeonjharkeyobjectivesselfreliantindiaatmanirbharbharatabhiyanmissionfollowsdevelopindiaglobalsupplychainhubbuildgovernmentstrustprivatesectorcapabilitiesprospects1nndcsradioatmanirbharbharatabhiyanvocallocalneedknowatmanirbharbharatabhiyanksgblogsatmanirbharbharatabhiyanreadksgindiacombloggyaankosachievementatmanirbharbharatabhiyanlineatmanirbharbharatabhiyanmanodarpanimplementedprovidepsychosocialsupportstudentsteachersfamilyamidcovid19wellbeingmakeindiaatmanirbharbharatabhiyantwoinitiativesspearheadedgovernmentseffortbringchangeindiasentrepreneurshipmindseteasingregulationsannouncinggrantsupcomingmsmespartatmanirbharbharatabhiyanvocallocalinitiativefoodprocessingsectorministryfoodprocessingindustriesreadindifoodbevcomlatestvocalftodaycorrectthatsnamocameatmanirbharbharatabhiyanprogramusedstandardpoliticalscamgetatmanirbharbharatabhiyanworkdonepresentgovernmentatalpensionyojanamudraloansatmanirbharbharatmakeindiaswachbharatabhiyanjandhanyojnamannkibaatdigitalindiafavouriteoneayushmanbharatkashmirissueresolvedskillindianeverendedlistatmanirbharbharatabhiyanexplainedlaymanstermscleariascomatmanirbharbhpersonalcontactprogramfacilitationcampaignatmanirbharbharatabhiyandated0502202209022022nyksdelhiinstagramcompcfmvymevja8personalcontactprogramfacilitationcampaignatmanirbharbharatabhiyandated0502202209022022nyksdelhiinstagramcompcfmvymevja8digitalfelicitationpreparecadrabankmitraprogramatmanirbharbharatabhiyannyksdelhiinstagramcompcfmoonavjwp1makeindia2swachhbharatabhiyan3jandhanyojana4policies5abrogationarticle3706mannkibaat7ayushmanbharat8digitalindia9atmanirbharbharat10controlcovid191makeindia2swachhbharatabhiyan3jandhanyojana4policies5abrogationarticle3706mannkibaat7ayushmanbharat8digitalindia9atmanirbharbharat10controlcovid19twittercomrvcjfbstatusshrisaidindiagetfullfledged5gservicesmar23saidtechnologycorenetwork5gservicesbbuiltindiawouldachievementcountrybigatmanirbharbharatabhiyanfpromotedesigndevelopmentmanufacturingairsportsequipmentindialineatmanirbharbharatabhiyanpleasedeclarebrandambassadoratmanirbharbharatabhiyanmakeindiaswacchtaabhiyanpmjdyatmanirbharbharatqualityroadsqualityinfraelectrifiedrailwaysvishwaguruimage8yearsbjpprovedgets70yrsindiawouldbecomeworldpowertwittercomincindiastatusinceonecamesupportextendedcleaninrldindiasorganicinorganicchemicalsaugmentexportgrowth106thrivingpmjisatmanirbharbharatabhiyanseetweetedtimescomshreekant26sorganizing2ndeditionideathonnationalinnovationpitchfest22towardsatmanirbharbharatabhiyangsmsmbagisctbitakenleadchallengeindiasmindspresentideasproofconceptsbusinessideasindiasbondingworldindiasorganicinorganicchemicalsaugmentexportgrowth106thrivingpmjisatmanirbharbharatabhiyanindiasbondingworldindiasorganicinorganicchemicalsaugmentexportgrowth106thrivingpmjisatmanirbharbharatabhiyangtuorganizing2ndeditionideathonnationalinnovationpitchfest22towardsatmanirbharbharatabhiyangsmsmbagisctbitakenleadchallengeindiasmindspresentideasproofconceptsbusinessideasatmanirbharbharatabhiyantwittercomtdhnairstaideathonnationalinnovationpitchfest2022nationalinnovationpitchfest22adheringatmanirbharbharatabhiyaninitiatedhonbleprimeministershrinarendrfollowusgivemechallengecomideathonnatioatmanirbharbharatabhiyankeyfactsobjectivesgeneralconceptdetailsuniquenewsonlinecomatmanirbharbhatmanirbharbharatabhiyangovernmentaimedlimitingimportdependenceincreasingdemandindigenousproductsprovidinggrowthopportunitiescompanymybsin2auj5dwatmanirbharbharatabhiyangovernmentaimedlimitingimportdependenceincreasingdemandindigenousproductsprovidinggrowthopportunitiescompanymybsin2auj5dwatmanirbharbharatabhiyangovernmentaimedlimitingimportdependenceincreasingdemandindigenousproductsprovidinggrowthopportunitiescompanymybsin2auj5dwsocialsecurityschemesmodiji1atmanirbharbharatabhiyan2missionkarmayogi3pradhanmantrisvanidhischeme4samarthscheme5savyashikshaabhiyaan6rashtriyagokulmission7productionlinkedincentiveplischeme1gatherideasresourcescreatesystems2runsystemsdriveprofitablebusiness3generateregularcashflowpumpindianeconomy4createcyclestepsinvolveatmanirbharbharatabhiyanrepeat2021pushatmanirbharbharatabhiyaninitiativethecentralgoveerateatmanirbharbharatabhiyangovernmentmustrevisitreducedutiestaxescapitalgoodsencourageenterprisesinvestproduceeconomictimesindiatimescomsmallbizsmetestimonyindiasspiritfaceadversityeconomyprojectedgrowratefiscalgoingcontractionlastyearshowsatmanirbharbharatabhiyanlaunchedyeartestimonyindiasspiritfaceadversityeconomyprojectedgrowratefiscalgoingcontractionlastyearshowsatmanirbharbharatabhiyanlaunchedyearreasidistjkwomenselfhelpgroupschampionsatmanirbharbharatabhiyanleadershippmjisgovtakenleadencouragingwomengostayingindoorsselfsufficientsupportlivelihoodstwittercomnews18dotcomspounitehsilreasidistjkwomenselfhelpgroupschampionsatmanirbharbharatabhiyanleadershiphonpmjisgovtakenleadmademarkrevivaltraditionalhandicraftssupportlivelihoodsrevivalhandicraftsreasiwomenselfhelpgroupschampionsatmanirbharbharatabhiyanhonpmjisgovtdistrictexampletwittercomdailyexcelsiorgoisatmanirbharbharatabhiyanindiasexportschinagrew342bilateraltradegrewrecord125bn2021givengrowthpotentialgoimusttakeissuechinaopenmarketsindiaspharmaceuticalproductscommittedatmanirbharbharatabhiyanprioritisedprocurementindianindustrytakenstepsleveragingintelligence5gquantumtechnologygainedgeadversariesplischemespartindiangovernmentsannouncementatmanirbharbharatabhiyandiversesectorsincludingprocessedfoodswhitegoodspharmaceuticalstwittercommygovindiastamantraalwaysindiapmmodiwomenselfhelpgroupschampionsatmanirbharbharatabhiyanpmmodinm4comuog8k5vianamoappappointedbrandambassadoratmanirbharbharatabhiyanimpacteligibilityatmanirbharbharatabhiyanhinditipsgeneralknowleiffcosnanoureaatmanirbharbharatabhiyansgiftworldtruelycompacttwittercomdrusawasthistwomenselfhelpgroupschampionsatmanirbharbharatabhiyanpmmodinm4comuog8k5vianamoappmantraalwaysindiapmmodiwomenselfhelpgroupschampionsatmanirbharbharatabhiyanpmmodinm4comuog8k5vianamoappwomenselfhelpgroupschampionsatmanirbharbharatabhiyanpmmodinm4comuog8k5vianamoappmantraalwaysindiapmmodiwomenselfhelpgroupschampionsatmanirbharbharatabhiyanpmmodinm4comuog8k5vianamoappwomenselfhelpgroupschampionsatmanirbharbharatabhiyanpmmodinm4comuog8k5vianamoappwomenselfhelpgroupschampionsatmanirbharbharatabhiyanpmmodinm4comuog8k5vianamoappwomenselfhelpgroupschampionsatmanirbharbharatabhiyanpmmodinm4comuog8k5vianamoappwomenselfhelpgroupschampionsatmanirbharbharatabhiyanpmmodinm4comuog8k5vianamoappmantraalwaysindiapmmodiwomenselfhelpgroupschampionsatmanirbharbharatabhiyanpmmodinm4comuog8k5vianamoappwomenselfhelpgroupschampionsatmanirbharbharatabhiyanpmmodinm4comuog8k5vianamoappwomenselfhelpgroupschampionsatmanirbharbharatabhiyanpmmodinm4comuog8k5vianamoappwomenselfhelpgroupschampionsatmanirbharbharatabhiyanpmmodinm4comuog8k5vianamoappwomenselfhelpgroupschampionsatmanirbharbharatabhiyanpmmodinm4comuog8k5vianamoappwomenselfhelpgroupschampionsatmanirbharbharatabhiyanpmmodinm4comuog8k5vianamoappwomenselfhelpgroupschampionsatmanirbharbharatabhiyanpmmodinm4comuog8k5vianamoappwomenselfhelpgroupschampionsatmanirbharbharatabhiyanpmmodinm4comuog8k5vianamoappwomenselfhelpgroupschampionsatmanirbharbharatabhiyanpmmodinm4comuog8k5vianamoappwomenselfhelpgroupschampionsatmanirbharbharatabhiyanpmmodinm4comuog8k5womenselfhelpgroupschampionsatmanirbharbharatabhiyanpmmodinm4comuog8k5vianamoappwomenselfhelpgroupschampionsatmanirbharbharatabhiyanpmmodinm4comuog8k5womenselfhelpgroupschampionsatmanirbharbharatabhiyanpmmodinm4comuog8k5womenselfhelpgroupschampionsatmanirbharbharatabhiyanpmmodinm4comuog8k5vianamoa*ppwomenselfhelpgroupschampionsatmanirbharbharatabhiyanpmmodinm4comuog8k5vianamoappwomenselfhelpgroupschampionsatmanirbharbharatabhiyanpmmodinm4comuog8k5vianamoappwomenselfhelpgroupschampionsatmanirbharbharatabhiyanpmmodinm4comuog8k5vianamoappwomenselfhelpgroupschampionsatmanirbharbharatabhiyanpmmodinm4comuog8k5vianamoappwomenselfhelpgroupschampionsatmanirbharbharatabhiyanpmmodinm4comuog8k5vianamoappwomenselfhelpgroupschampionsatmanirbharbharatabhiyanpmmodinm4comuog8k5vianamoappmay2020government0yearsgovernanceatmanirbharbharatabhiyanvisionindiaswachabharatdigitalindiaskillindiaunnatbharatabhiyanmakeindiastartupindiaatmanirbharbharatstringinitiativesempoweringbharatindiagdcmarheenorganisesskillenhancementprogrammeatmanirbharbharatabhiyanlineatmanirbharbharatabhiyanmanodarpanimplementedprovidepsychosocialsupportstudentsteachersfamilyamidcovid19wellbeinggovtleadershippmshrijicleareddeckslongdelayedprocurement56airbusc295transportaircraftamong40manufacturedindia*\n"
      ],
      "metadata": {
        "id": "plx2wPfzKxDN"
      }
    }
  ],
  "metadata": {
    "colab": {
      "provenance": [],
      "include_colab_link": true
    },
    "kernelspec": {
      "display_name": "Python 3",
      "name": "python3"
    },
    "language_info": {
      "name": "python"
    }
  },
  "nbformat": 4,
  "nbformat_minor": 0
}